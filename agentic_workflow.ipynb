{
  "cells": [
    {
      "cell_type": "markdown",
      "metadata": {
        "id": "OfNzCgHl08Sc"
      },
      "source": [
        "# LlamaIndex Agentic Workflows introduction\n",
        "\n",
        "Welcome to LlamaIndex! In this notebook we'll be walking step-by-step through building agentic workflows.\n",
        "\n",
        "In LlamaIndex, `Workflow`s are the building blocks of putting together an agent or a multi-agent system. To get you up and running quickly, we have a pre-built Workflow called the `AgentWorkflow` that handles a lot of common agent use cases and allows you to focus on the specifics of your implementation. Later, we'll drop down one level to Workflows themselves and show how to build one from scratch.\n",
        "\n",
        "To start off, we'll create an AgentWorkflow with a single agent, and use that to cover the basic functionality of the `AgentWorkflow` class."
      ]
    },
    {
      "cell_type": "code",
      "execution_count": null,
      "metadata": {
        "colab": {
          "base_uri": "https://localhost:8080/"
        },
        "collapsed": true,
        "id": "lUPsTREU08Sd",
        "outputId": "5ce42b45-d322-4759-83e1-35176544d847"
      },
      "outputs": [
        {
          "output_type": "stream",
          "name": "stdout",
          "text": [
            "Collecting llama-index\n",
            "  Downloading llama_index-0.12.14-py3-none-any.whl.metadata (12 kB)\n",
            "Collecting llama-index-agent-openai<0.5.0,>=0.4.0 (from llama-index)\n",
            "  Downloading llama_index_agent_openai-0.4.3-py3-none-any.whl.metadata (727 bytes)\n",
            "Collecting llama-index-cli<0.5.0,>=0.4.0 (from llama-index)\n",
            "  Downloading llama_index_cli-0.4.0-py3-none-any.whl.metadata (1.5 kB)\n",
            "Collecting llama-index-core<0.13.0,>=0.12.14 (from llama-index)\n",
            "  Downloading llama_index_core-0.12.14-py3-none-any.whl.metadata (2.5 kB)\n",
            "Collecting llama-index-embeddings-openai<0.4.0,>=0.3.0 (from llama-index)\n",
            "  Downloading llama_index_embeddings_openai-0.3.1-py3-none-any.whl.metadata (684 bytes)\n",
            "Collecting llama-index-indices-managed-llama-cloud>=0.4.0 (from llama-index)\n",
            "  Downloading llama_index_indices_managed_llama_cloud-0.6.4-py3-none-any.whl.metadata (3.6 kB)\n",
            "Collecting llama-index-llms-openai<0.4.0,>=0.3.0 (from llama-index)\n",
            "  Downloading llama_index_llms_openai-0.3.14-py3-none-any.whl.metadata (3.3 kB)\n",
            "Collecting llama-index-multi-modal-llms-openai<0.5.0,>=0.4.0 (from llama-index)\n",
            "  Downloading llama_index_multi_modal_llms_openai-0.4.2-py3-none-any.whl.metadata (726 bytes)\n",
            "Collecting llama-index-program-openai<0.4.0,>=0.3.0 (from llama-index)\n",
            "  Downloading llama_index_program_openai-0.3.1-py3-none-any.whl.metadata (764 bytes)\n",
            "Collecting llama-index-question-gen-openai<0.4.0,>=0.3.0 (from llama-index)\n",
            "  Downloading llama_index_question_gen_openai-0.3.0-py3-none-any.whl.metadata (783 bytes)\n",
            "Collecting llama-index-readers-file<0.5.0,>=0.4.0 (from llama-index)\n",
            "  Downloading llama_index_readers_file-0.4.4-py3-none-any.whl.metadata (5.4 kB)\n",
            "Collecting llama-index-readers-llama-parse>=0.4.0 (from llama-index)\n",
            "  Downloading llama_index_readers_llama_parse-0.4.0-py3-none-any.whl.metadata (3.6 kB)\n",
            "Requirement already satisfied: nltk>3.8.1 in /usr/local/lib/python3.11/dist-packages (from llama-index) (3.9.1)\n",
            "Requirement already satisfied: openai>=1.14.0 in /usr/local/lib/python3.11/dist-packages (from llama-index-agent-openai<0.5.0,>=0.4.0->llama-index) (1.59.9)\n",
            "Requirement already satisfied: PyYAML>=6.0.1 in /usr/local/lib/python3.11/dist-packages (from llama-index-core<0.13.0,>=0.12.14->llama-index) (6.0.2)\n",
            "Requirement already satisfied: SQLAlchemy>=1.4.49 in /usr/local/lib/python3.11/dist-packages (from SQLAlchemy[asyncio]>=1.4.49->llama-index-core<0.13.0,>=0.12.14->llama-index) (2.0.37)\n",
            "Requirement already satisfied: aiohttp<4.0.0,>=3.8.6 in /usr/local/lib/python3.11/dist-packages (from llama-index-core<0.13.0,>=0.12.14->llama-index) (3.11.11)\n",
            "Collecting dataclasses-json (from llama-index-core<0.13.0,>=0.12.14->llama-index)\n",
            "  Downloading dataclasses_json-0.6.7-py3-none-any.whl.metadata (25 kB)\n",
            "Requirement already satisfied: deprecated>=1.2.9.3 in /usr/local/lib/python3.11/dist-packages (from llama-index-core<0.13.0,>=0.12.14->llama-index) (1.2.18)\n",
            "Collecting dirtyjson<2.0.0,>=1.0.8 (from llama-index-core<0.13.0,>=0.12.14->llama-index)\n",
            "  Downloading dirtyjson-1.0.8-py3-none-any.whl.metadata (11 kB)\n",
            "Collecting filetype<2.0.0,>=1.2.0 (from llama-index-core<0.13.0,>=0.12.14->llama-index)\n",
            "  Downloading filetype-1.2.0-py2.py3-none-any.whl.metadata (6.5 kB)\n",
            "Requirement already satisfied: fsspec>=2023.5.0 in /usr/local/lib/python3.11/dist-packages (from llama-index-core<0.13.0,>=0.12.14->llama-index) (2024.10.0)\n",
            "Requirement already satisfied: httpx in /usr/local/lib/python3.11/dist-packages (from llama-index-core<0.13.0,>=0.12.14->llama-index) (0.28.1)\n",
            "Requirement already satisfied: nest-asyncio<2.0.0,>=1.5.8 in /usr/local/lib/python3.11/dist-packages (from llama-index-core<0.13.0,>=0.12.14->llama-index) (1.6.0)\n",
            "Requirement already satisfied: networkx>=3.0 in /usr/local/lib/python3.11/dist-packages (from llama-index-core<0.13.0,>=0.12.14->llama-index) (3.4.2)\n",
            "Requirement already satisfied: numpy in /usr/local/lib/python3.11/dist-packages (from llama-index-core<0.13.0,>=0.12.14->llama-index) (1.26.4)\n",
            "Requirement already satisfied: pillow>=9.0.0 in /usr/local/lib/python3.11/dist-packages (from llama-index-core<0.13.0,>=0.12.14->llama-index) (11.1.0)\n",
            "Requirement already satisfied: pydantic>=2.8.0 in /usr/local/lib/python3.11/dist-packages (from llama-index-core<0.13.0,>=0.12.14->llama-index) (2.10.6)\n",
            "Requirement already satisfied: requests>=2.31.0 in /usr/local/lib/python3.11/dist-packages (from llama-index-core<0.13.0,>=0.12.14->llama-index) (2.32.3)\n",
            "Requirement already satisfied: tenacity!=8.4.0,<10.0.0,>=8.2.0 in /usr/local/lib/python3.11/dist-packages (from llama-index-core<0.13.0,>=0.12.14->llama-index) (9.0.0)\n",
            "Collecting tiktoken>=0.3.3 (from llama-index-core<0.13.0,>=0.12.14->llama-index)\n",
            "  Downloading tiktoken-0.8.0-cp311-cp311-manylinux_2_17_x86_64.manylinux2014_x86_64.whl.metadata (6.6 kB)\n",
            "Requirement already satisfied: tqdm<5.0.0,>=4.66.1 in /usr/local/lib/python3.11/dist-packages (from llama-index-core<0.13.0,>=0.12.14->llama-index) (4.67.1)\n",
            "Requirement already satisfied: typing-extensions>=4.5.0 in /usr/local/lib/python3.11/dist-packages (from llama-index-core<0.13.0,>=0.12.14->llama-index) (4.12.2)\n",
            "Collecting typing-inspect>=0.8.0 (from llama-index-core<0.13.0,>=0.12.14->llama-index)\n",
            "  Downloading typing_inspect-0.9.0-py3-none-any.whl.metadata (1.5 kB)\n",
            "Requirement already satisfied: wrapt in /usr/local/lib/python3.11/dist-packages (from llama-index-core<0.13.0,>=0.12.14->llama-index) (1.17.2)\n",
            "Collecting llama-cloud<0.2.0,>=0.1.8 (from llama-index-indices-managed-llama-cloud>=0.4.0->llama-index)\n",
            "  Downloading llama_cloud-0.1.11-py3-none-any.whl.metadata (912 bytes)\n",
            "Requirement already satisfied: beautifulsoup4<5.0.0,>=4.12.3 in /usr/local/lib/python3.11/dist-packages (from llama-index-readers-file<0.5.0,>=0.4.0->llama-index) (4.12.3)\n",
            "Requirement already satisfied: pandas in /usr/local/lib/python3.11/dist-packages (from llama-index-readers-file<0.5.0,>=0.4.0->llama-index) (2.2.2)\n",
            "Collecting pypdf<6.0.0,>=5.1.0 (from llama-index-readers-file<0.5.0,>=0.4.0->llama-index)\n",
            "  Downloading pypdf-5.2.0-py3-none-any.whl.metadata (7.2 kB)\n",
            "Collecting striprtf<0.0.27,>=0.0.26 (from llama-index-readers-file<0.5.0,>=0.4.0->llama-index)\n",
            "  Downloading striprtf-0.0.26-py3-none-any.whl.metadata (2.1 kB)\n",
            "Collecting llama-parse>=0.5.0 (from llama-index-readers-llama-parse>=0.4.0->llama-index)\n",
            "  Downloading llama_parse-0.5.20-py3-none-any.whl.metadata (6.9 kB)\n",
            "Requirement already satisfied: click in /usr/local/lib/python3.11/dist-packages (from nltk>3.8.1->llama-index) (8.1.8)\n",
            "Requirement already satisfied: joblib in /usr/local/lib/python3.11/dist-packages (from nltk>3.8.1->llama-index) (1.4.2)\n",
            "Requirement already satisfied: regex>=2021.8.3 in /usr/local/lib/python3.11/dist-packages (from nltk>3.8.1->llama-index) (2024.11.6)\n",
            "Requirement already satisfied: aiohappyeyeballs>=2.3.0 in /usr/local/lib/python3.11/dist-packages (from aiohttp<4.0.0,>=3.8.6->llama-index-core<0.13.0,>=0.12.14->llama-index) (2.4.4)\n",
            "Requirement already satisfied: aiosignal>=1.1.2 in /usr/local/lib/python3.11/dist-packages (from aiohttp<4.0.0,>=3.8.6->llama-index-core<0.13.0,>=0.12.14->llama-index) (1.3.2)\n",
            "Requirement already satisfied: attrs>=17.3.0 in /usr/local/lib/python3.11/dist-packages (from aiohttp<4.0.0,>=3.8.6->llama-index-core<0.13.0,>=0.12.14->llama-index) (25.1.0)\n",
            "Requirement already satisfied: frozenlist>=1.1.1 in /usr/local/lib/python3.11/dist-packages (from aiohttp<4.0.0,>=3.8.6->llama-index-core<0.13.0,>=0.12.14->llama-index) (1.5.0)\n",
            "Requirement already satisfied: multidict<7.0,>=4.5 in /usr/local/lib/python3.11/dist-packages (from aiohttp<4.0.0,>=3.8.6->llama-index-core<0.13.0,>=0.12.14->llama-index) (6.1.0)\n",
            "Requirement already satisfied: propcache>=0.2.0 in /usr/local/lib/python3.11/dist-packages (from aiohttp<4.0.0,>=3.8.6->llama-index-core<0.13.0,>=0.12.14->llama-index) (0.2.1)\n",
            "Requirement already satisfied: yarl<2.0,>=1.17.0 in /usr/local/lib/python3.11/dist-packages (from aiohttp<4.0.0,>=3.8.6->llama-index-core<0.13.0,>=0.12.14->llama-index) (1.18.3)\n",
            "Requirement already satisfied: soupsieve>1.2 in /usr/local/lib/python3.11/dist-packages (from beautifulsoup4<5.0.0,>=4.12.3->llama-index-readers-file<0.5.0,>=0.4.0->llama-index) (2.6)\n",
            "Requirement already satisfied: certifi<2025.0.0,>=2024.7.4 in /usr/local/lib/python3.11/dist-packages (from llama-cloud<0.2.0,>=0.1.8->llama-index-indices-managed-llama-cloud>=0.4.0->llama-index) (2024.12.14)\n",
            "Requirement already satisfied: anyio in /usr/local/lib/python3.11/dist-packages (from httpx->llama-index-core<0.13.0,>=0.12.14->llama-index) (3.7.1)\n",
            "Requirement already satisfied: httpcore==1.* in /usr/local/lib/python3.11/dist-packages (from httpx->llama-index-core<0.13.0,>=0.12.14->llama-index) (1.0.7)\n",
            "Requirement already satisfied: idna in /usr/local/lib/python3.11/dist-packages (from httpx->llama-index-core<0.13.0,>=0.12.14->llama-index) (3.10)\n",
            "Requirement already satisfied: h11<0.15,>=0.13 in /usr/local/lib/python3.11/dist-packages (from httpcore==1.*->httpx->llama-index-core<0.13.0,>=0.12.14->llama-index) (0.14.0)\n",
            "Requirement already satisfied: distro<2,>=1.7.0 in /usr/local/lib/python3.11/dist-packages (from openai>=1.14.0->llama-index-agent-openai<0.5.0,>=0.4.0->llama-index) (1.9.0)\n",
            "Requirement already satisfied: jiter<1,>=0.4.0 in /usr/local/lib/python3.11/dist-packages (from openai>=1.14.0->llama-index-agent-openai<0.5.0,>=0.4.0->llama-index) (0.8.2)\n",
            "Requirement already satisfied: sniffio in /usr/local/lib/python3.11/dist-packages (from openai>=1.14.0->llama-index-agent-openai<0.5.0,>=0.4.0->llama-index) (1.3.1)\n",
            "Requirement already satisfied: annotated-types>=0.6.0 in /usr/local/lib/python3.11/dist-packages (from pydantic>=2.8.0->llama-index-core<0.13.0,>=0.12.14->llama-index) (0.7.0)\n",
            "Requirement already satisfied: pydantic-core==2.27.2 in /usr/local/lib/python3.11/dist-packages (from pydantic>=2.8.0->llama-index-core<0.13.0,>=0.12.14->llama-index) (2.27.2)\n",
            "Requirement already satisfied: charset-normalizer<4,>=2 in /usr/local/lib/python3.11/dist-packages (from requests>=2.31.0->llama-index-core<0.13.0,>=0.12.14->llama-index) (3.4.1)\n",
            "Requirement already satisfied: urllib3<3,>=1.21.1 in /usr/local/lib/python3.11/dist-packages (from requests>=2.31.0->llama-index-core<0.13.0,>=0.12.14->llama-index) (2.3.0)\n",
            "Requirement already satisfied: greenlet!=0.4.17 in /usr/local/lib/python3.11/dist-packages (from SQLAlchemy>=1.4.49->SQLAlchemy[asyncio]>=1.4.49->llama-index-core<0.13.0,>=0.12.14->llama-index) (3.1.1)\n",
            "Collecting mypy-extensions>=0.3.0 (from typing-inspect>=0.8.0->llama-index-core<0.13.0,>=0.12.14->llama-index)\n",
            "  Downloading mypy_extensions-1.0.0-py3-none-any.whl.metadata (1.1 kB)\n",
            "Collecting marshmallow<4.0.0,>=3.18.0 (from dataclasses-json->llama-index-core<0.13.0,>=0.12.14->llama-index)\n",
            "  Downloading marshmallow-3.26.0-py3-none-any.whl.metadata (7.3 kB)\n",
            "Requirement already satisfied: python-dateutil>=2.8.2 in /usr/local/lib/python3.11/dist-packages (from pandas->llama-index-readers-file<0.5.0,>=0.4.0->llama-index) (2.8.2)\n",
            "Requirement already satisfied: pytz>=2020.1 in /usr/local/lib/python3.11/dist-packages (from pandas->llama-index-readers-file<0.5.0,>=0.4.0->llama-index) (2024.2)\n",
            "Requirement already satisfied: tzdata>=2022.7 in /usr/local/lib/python3.11/dist-packages (from pandas->llama-index-readers-file<0.5.0,>=0.4.0->llama-index) (2025.1)\n",
            "Requirement already satisfied: packaging>=17.0 in /usr/local/lib/python3.11/dist-packages (from marshmallow<4.0.0,>=3.18.0->dataclasses-json->llama-index-core<0.13.0,>=0.12.14->llama-index) (24.2)\n",
            "Requirement already satisfied: six>=1.5 in /usr/local/lib/python3.11/dist-packages (from python-dateutil>=2.8.2->pandas->llama-index-readers-file<0.5.0,>=0.4.0->llama-index) (1.17.0)\n",
            "Downloading llama_index-0.12.14-py3-none-any.whl (6.9 kB)\n",
            "Downloading llama_index_agent_openai-0.4.3-py3-none-any.whl (13 kB)\n",
            "Downloading llama_index_cli-0.4.0-py3-none-any.whl (27 kB)\n",
            "Downloading llama_index_core-0.12.14-py3-none-any.whl (1.6 MB)\n",
            "\u001b[2K   \u001b[90m━━━━━━━━━━━━━━━━━━━━━━━━━━━━━━━━━━━━━━━━\u001b[0m \u001b[32m1.6/1.6 MB\u001b[0m \u001b[31m19.4 MB/s\u001b[0m eta \u001b[36m0:00:00\u001b[0m\n",
            "\u001b[?25hDownloading llama_index_embeddings_openai-0.3.1-py3-none-any.whl (6.2 kB)\n",
            "Downloading llama_index_indices_managed_llama_cloud-0.6.4-py3-none-any.whl (13 kB)\n",
            "Downloading llama_index_llms_openai-0.3.14-py3-none-any.whl (14 kB)\n",
            "Downloading llama_index_multi_modal_llms_openai-0.4.2-py3-none-any.whl (5.9 kB)\n",
            "Downloading llama_index_program_openai-0.3.1-py3-none-any.whl (5.3 kB)\n",
            "Downloading llama_index_question_gen_openai-0.3.0-py3-none-any.whl (2.9 kB)\n",
            "Downloading llama_index_readers_file-0.4.4-py3-none-any.whl (39 kB)\n",
            "Downloading llama_index_readers_llama_parse-0.4.0-py3-none-any.whl (2.5 kB)\n",
            "Downloading dirtyjson-1.0.8-py3-none-any.whl (25 kB)\n",
            "Downloading filetype-1.2.0-py2.py3-none-any.whl (19 kB)\n",
            "Downloading llama_cloud-0.1.11-py3-none-any.whl (250 kB)\n",
            "\u001b[2K   \u001b[90m━━━━━━━━━━━━━━━━━━━━━━━━━━━━━━━━━━━━━━━━\u001b[0m \u001b[32m250.6/250.6 kB\u001b[0m \u001b[31m16.0 MB/s\u001b[0m eta \u001b[36m0:00:00\u001b[0m\n",
            "\u001b[?25hDownloading llama_parse-0.5.20-py3-none-any.whl (16 kB)\n",
            "Downloading pypdf-5.2.0-py3-none-any.whl (298 kB)\n",
            "\u001b[2K   \u001b[90m━━━━━━━━━━━━━━━━━━━━━━━━━━━━━━━━━━━━━━━━\u001b[0m \u001b[32m298.7/298.7 kB\u001b[0m \u001b[31m16.5 MB/s\u001b[0m eta \u001b[36m0:00:00\u001b[0m\n",
            "\u001b[?25hDownloading striprtf-0.0.26-py3-none-any.whl (6.9 kB)\n",
            "Downloading tiktoken-0.8.0-cp311-cp311-manylinux_2_17_x86_64.manylinux2014_x86_64.whl (1.2 MB)\n",
            "\u001b[2K   \u001b[90m━━━━━━━━━━━━━━━━━━━━━━━━━━━━━━━━━━━━━━━━\u001b[0m \u001b[32m1.2/1.2 MB\u001b[0m \u001b[31m41.5 MB/s\u001b[0m eta \u001b[36m0:00:00\u001b[0m\n",
            "\u001b[?25hDownloading typing_inspect-0.9.0-py3-none-any.whl (8.8 kB)\n",
            "Downloading dataclasses_json-0.6.7-py3-none-any.whl (28 kB)\n",
            "Downloading marshmallow-3.26.0-py3-none-any.whl (50 kB)\n",
            "\u001b[2K   \u001b[90m━━━━━━━━━━━━━━━━━━━━━━━━━━━━━━━━━━━━━━━━\u001b[0m \u001b[32m50.8/50.8 kB\u001b[0m \u001b[31m3.1 MB/s\u001b[0m eta \u001b[36m0:00:00\u001b[0m\n",
            "\u001b[?25hDownloading mypy_extensions-1.0.0-py3-none-any.whl (4.7 kB)\n",
            "Installing collected packages: striprtf, filetype, dirtyjson, pypdf, mypy-extensions, marshmallow, typing-inspect, tiktoken, llama-cloud, dataclasses-json, llama-index-core, llama-parse, llama-index-readers-file, llama-index-llms-openai, llama-index-indices-managed-llama-cloud, llama-index-embeddings-openai, llama-index-readers-llama-parse, llama-index-multi-modal-llms-openai, llama-index-cli, llama-index-agent-openai, llama-index-program-openai, llama-index-question-gen-openai, llama-index\n",
            "Successfully installed dataclasses-json-0.6.7 dirtyjson-1.0.8 filetype-1.2.0 llama-cloud-0.1.11 llama-index-0.12.14 llama-index-agent-openai-0.4.3 llama-index-cli-0.4.0 llama-index-core-0.12.14 llama-index-embeddings-openai-0.3.1 llama-index-indices-managed-llama-cloud-0.6.4 llama-index-llms-openai-0.3.14 llama-index-multi-modal-llms-openai-0.4.2 llama-index-program-openai-0.3.1 llama-index-question-gen-openai-0.3.0 llama-index-readers-file-0.4.4 llama-index-readers-llama-parse-0.4.0 llama-parse-0.5.20 marshmallow-3.26.0 mypy-extensions-1.0.0 pypdf-5.2.0 striprtf-0.0.26 tiktoken-0.8.0 typing-inspect-0.9.0\n"
          ]
        }
      ],
      "source": [
        "%pip install llama-index"
      ]
    },
    {
      "cell_type": "markdown",
      "metadata": {
        "id": "Q1RIgw5E08Se"
      },
      "source": [
        "## Getting an LLM\n",
        "\n",
        "The engine of any agent is the LLM that does the reasoning and text processing. To get started, we'll need access to an LLM.\n",
        "\n",
        "In this example, we'll be using `OpenAI` as our LLM. LlamaIndex supports more than 30 different LLM providers, including fully local and open-source options. Check out the [examples documentation](https://docs.llamaindex.ai/en/stable/examples/llm/openai/) or [LlamaHub](https://llamahub.ai/?tab=llms) for a list of all supported LLMs and how to install and use them.\n",
        "\n",
        "First we need an API key:"
      ]
    },
    {
      "cell_type": "code",
      "source": [
        "from google.colab import userdata\n",
        "api_key = userdata.get('openai-key')"
      ],
      "metadata": {
        "id": "iVhR41i7Kxt1"
      },
      "execution_count": null,
      "outputs": []
    },
    {
      "cell_type": "markdown",
      "source": [
        "With our API key in hand, instantiating an LLM is one line:"
      ],
      "metadata": {
        "id": "QBxfugByQuee"
      }
    },
    {
      "cell_type": "code",
      "execution_count": null,
      "metadata": {
        "id": "irp_33Cg08Sf"
      },
      "outputs": [],
      "source": [
        "from llama_index.llms.openai import OpenAI\n",
        "\n",
        "llm = OpenAI(model=\"gpt-4o-mini\", api_key=api_key)"
      ]
    },
    {
      "cell_type": "markdown",
      "metadata": {
        "id": "2mBg-8KE08Sf"
      },
      "source": [
        "A core feature of agents is that they can use tools to find out more about the state of the world, or take action in response to instructions, without you needing to be explicit about how and when they do that.\n",
        "\n",
        "In this example, we'll give our agent the ability to search the web for information by creating a tool that does that. We'll use a service called Tavily, which is specifically designed to provide this kind of tool to agents. You can get a free API key from [Tavily](https://tavily.com/)."
      ]
    },
    {
      "cell_type": "code",
      "execution_count": null,
      "metadata": {
        "colab": {
          "base_uri": "https://localhost:8080/"
        },
        "collapsed": true,
        "id": "nbiDQ4v408Sf",
        "outputId": "98f88b45-2b67-4429-f004-e927a148704a"
      },
      "outputs": [
        {
          "output_type": "stream",
          "name": "stdout",
          "text": [
            "Collecting tavily-python\n",
            "  Downloading tavily_python-0.5.0-py3-none-any.whl.metadata (11 kB)\n",
            "Requirement already satisfied: requests in /usr/local/lib/python3.11/dist-packages (from tavily-python) (2.32.3)\n",
            "Requirement already satisfied: tiktoken>=0.5.1 in /usr/local/lib/python3.11/dist-packages (from tavily-python) (0.8.0)\n",
            "Requirement already satisfied: httpx in /usr/local/lib/python3.11/dist-packages (from tavily-python) (0.28.1)\n",
            "Requirement already satisfied: regex>=2022.1.18 in /usr/local/lib/python3.11/dist-packages (from tiktoken>=0.5.1->tavily-python) (2024.11.6)\n",
            "Requirement already satisfied: charset-normalizer<4,>=2 in /usr/local/lib/python3.11/dist-packages (from requests->tavily-python) (3.4.1)\n",
            "Requirement already satisfied: idna<4,>=2.5 in /usr/local/lib/python3.11/dist-packages (from requests->tavily-python) (3.10)\n",
            "Requirement already satisfied: urllib3<3,>=1.21.1 in /usr/local/lib/python3.11/dist-packages (from requests->tavily-python) (2.3.0)\n",
            "Requirement already satisfied: certifi>=2017.4.17 in /usr/local/lib/python3.11/dist-packages (from requests->tavily-python) (2024.12.14)\n",
            "Requirement already satisfied: anyio in /usr/local/lib/python3.11/dist-packages (from httpx->tavily-python) (3.7.1)\n",
            "Requirement already satisfied: httpcore==1.* in /usr/local/lib/python3.11/dist-packages (from httpx->tavily-python) (1.0.7)\n",
            "Requirement already satisfied: h11<0.15,>=0.13 in /usr/local/lib/python3.11/dist-packages (from httpcore==1.*->httpx->tavily-python) (0.14.0)\n",
            "Requirement already satisfied: sniffio>=1.1 in /usr/local/lib/python3.11/dist-packages (from anyio->httpx->tavily-python) (1.3.1)\n",
            "Downloading tavily_python-0.5.0-py3-none-any.whl (14 kB)\n",
            "Installing collected packages: tavily-python\n",
            "Successfully installed tavily-python-0.5.0\n"
          ]
        }
      ],
      "source": [
        "%pip install tavily-python"
      ]
    },
    {
      "cell_type": "code",
      "source": [
        "from google.colab import userdata\n",
        "tavily_api_key = userdata.get('tavily-key')"
      ],
      "metadata": {
        "id": "VjJrdlbyMwQF"
      },
      "execution_count": null,
      "outputs": []
    },
    {
      "cell_type": "markdown",
      "source": [
        "Tools in LlamaIndex are just regular Python functions, so they can do anything a regular function can.\n",
        "\n",
        "When creating a tool, its very important to:\n",
        "- give the tool a distinctive name, and a clear description using docstrings. The LLM uses the name and description to understand what the tool does.\n",
        "- annotate the types. This helps the LLM understand the expected input and output types.\n",
        "- use async when possible, since this will make the workflow more efficient."
      ],
      "metadata": {
        "id": "fYBsSargR3wJ"
      }
    },
    {
      "cell_type": "code",
      "execution_count": null,
      "metadata": {
        "id": "r_HHImFu08Sf"
      },
      "outputs": [],
      "source": [
        "from tavily import AsyncTavilyClient\n",
        "\n",
        "# note the type annotations for the incoming query and the return string\n",
        "async def search_web(query: str) -> str:\n",
        "    \"\"\"Useful for using the web to answer questions.\"\"\"\n",
        "    client = AsyncTavilyClient(api_key=tavily_api_key)\n",
        "    return str(await client.search(query))"
      ]
    },
    {
      "cell_type": "markdown",
      "metadata": {
        "id": "g3vgV9SR08Sf"
      },
      "source": [
        "With the tool and and LLM defined, we can create an `AgentWorkflow` that uses the tool. AgentWorkflow has a special helper method for creating a single agent from a set of tools, so we'll use that.\n",
        "\n",
        "We give it a system prompt that defines what the agent does. It's a good idea to tell the agent what kinds of things its tools will allow it to do."
      ]
    },
    {
      "cell_type": "code",
      "execution_count": null,
      "metadata": {
        "id": "_mTPFx3C08Sg"
      },
      "outputs": [],
      "source": [
        "from llama_index.core.agent.workflow import AgentWorkflow\n",
        "\n",
        "workflow = AgentWorkflow.from_tools_or_functions(\n",
        "    [search_web],\n",
        "    llm=llm,\n",
        "    system_prompt=\"You are a helpful assistant that answers questions. If you don't know the answer, you can search the web for information.\",\n",
        ")"
      ]
    },
    {
      "cell_type": "markdown",
      "metadata": {
        "id": "NZGQYXnN08Sg"
      },
      "source": [
        "## Running the Agent\n",
        "\n",
        "Now that our agent is created, we can run it! An AgentWorkflow expects to start with a question or prompt in the `user_msg`, which it passes to the agent."
      ]
    },
    {
      "cell_type": "code",
      "execution_count": null,
      "metadata": {
        "colab": {
          "base_uri": "https://localhost:8080/"
        },
        "id": "BTFMz3Vo08Sg",
        "outputId": "076f0b40-52da-4a78-e171-7450cde40d4b"
      },
      "outputs": [
        {
          "output_type": "stream",
          "name": "stdout",
          "text": [
            "The current weather in San Francisco is as follows:\n",
            "\n",
            "- **Temperature**: 9.4°C (48.9°F)\n",
            "- **Condition**: Overcast\n",
            "- **Wind**: 2.9 mph (4.7 kph) from the south-southwest\n",
            "- **Humidity**: 80%\n",
            "- **Visibility**: 16 km (9 miles)\n",
            "- **Pressure**: 1023 mb (30.21 in)\n",
            "\n",
            "For more details, you can check the full weather report [here](https://www.weatherapi.com/).\n"
          ]
        }
      ],
      "source": [
        "response = await workflow.run(user_msg=\"What is the weather in San Francisco?\")\n",
        "print(str(response))"
      ]
    },
    {
      "cell_type": "markdown",
      "metadata": {
        "id": "UGn4oNU708Sh"
      },
      "source": [
        "## Maintaining State\n",
        "\n",
        "By default, the `AgentWorkflow` is stateless between runs. This means that the agent will not have any memory of previous runs.\n",
        "\n",
        "To maintain state, we need to keep track of the previous state. In LlamaIndex, Workflows have a `Context` that can be used to maintain state within and between runs. Since the `AgentWorkflow` is just a pre-built `Workflow`, we can also use it now.\n",
        "\n",
        "To maintain state between runs, we'll create a new `Context` called `ctx`. We pass in our `workflow` to properly configure this Context object for the workflow that will use it.\n",
        "\n",
        "With our configured Context, we can pass it to our first run."
      ]
    },
    {
      "cell_type": "code",
      "execution_count": null,
      "metadata": {
        "colab": {
          "base_uri": "https://localhost:8080/"
        },
        "id": "ko32K2M508Sh",
        "outputId": "a4985c50-6c47-44df-c236-3d5e7bd28b04"
      },
      "outputs": [
        {
          "output_type": "stream",
          "name": "stdout",
          "text": [
            "Nice to meet you, Laurie! How can I assist you today?\n"
          ]
        }
      ],
      "source": [
        "from llama_index.core.workflow import Context\n",
        "\n",
        "# configure a context to work with our workflow\n",
        "ctx = Context(workflow)\n",
        "\n",
        "response = await workflow.run(\n",
        "    user_msg=\"My name is Laurie, nice to meet you!\", ctx=ctx # give the configured context to the workflow\n",
        ")\n",
        "print(str(response))"
      ]
    },
    {
      "cell_type": "markdown",
      "source": [
        "Now we can pass the same context to a second run, and it will remember what happened before:"
      ],
      "metadata": {
        "id": "k6Xld5j1UkkW"
      }
    },
    {
      "cell_type": "code",
      "execution_count": null,
      "metadata": {
        "colab": {
          "base_uri": "https://localhost:8080/"
        },
        "id": "vB3jBGsk08Sh",
        "outputId": "345f8f61-5bea-45c1-87dd-d1e1e41813aa"
      },
      "outputs": [
        {
          "output_type": "stream",
          "name": "stdout",
          "text": [
            "Your name is Laurie.\n"
          ]
        }
      ],
      "source": [
        "# run the workflow again with the same context\n",
        "response = await workflow.run(user_msg=\"What is my name?\", ctx=ctx)\n",
        "print(str(response))"
      ]
    },
    {
      "cell_type": "markdown",
      "metadata": {
        "id": "xwGHsPoN08Sh"
      },
      "source": [
        "## Maintaining state over longer periods\n",
        "\n",
        "The context is serializable, so it can be saved to a database, file, etc. and loaded back in later.\n",
        "\n",
        "The `JsonSerializer` is a simple serializer that uses `json.dumps` and `json.loads` to serialize and deserialize the context.\n",
        "\n",
        "The `JsonPickleSerializer` is a serializer that uses `pickle` to serialize and deserialize the context. If you have objects in your context that are not serializable, you can use this serializer."
      ]
    },
    {
      "cell_type": "code",
      "execution_count": null,
      "metadata": {
        "id": "3OrQBVhJ08Sh"
      },
      "outputs": [],
      "source": [
        "from llama_index.core.workflow import JsonPickleSerializer, JsonSerializer\n",
        "\n",
        "# convert our Context to a dictionary object\n",
        "ctx_dict = ctx.to_dict(serializer=JsonSerializer())\n",
        "\n",
        "# create a new Context from the dictionary\n",
        "restored_ctx = Context.from_dict(\n",
        "    workflow, ctx_dict, serializer=JsonSerializer()\n",
        ")"
      ]
    },
    {
      "cell_type": "code",
      "execution_count": null,
      "metadata": {
        "colab": {
          "base_uri": "https://localhost:8080/"
        },
        "id": "_-yUyd2B08Sh",
        "outputId": "007ee9c6-7ca0-463a-c660-e25b8eb2722b"
      },
      "outputs": [
        {
          "output_type": "stream",
          "name": "stdout",
          "text": [
            "Yes, I remember your name is Laurie.\n"
          ]
        }
      ],
      "source": [
        "response = await workflow.run(\n",
        "    user_msg=\"Do you still remember my name?\", ctx=restored_ctx\n",
        ")\n",
        "print(str(response))"
      ]
    },
    {
      "cell_type": "markdown",
      "metadata": {
        "id": "-Oj6IbXz08Sh"
      },
      "source": [
        "## Streaming output and events\n",
        "\n",
        "In addition to returning a single string when the workflow completes, the `AgentWorkflow` also supports streaming. Since the `AgentWorkflow` is a `Workflow`, it can be streamed like any other `Workflow`. This works by using the handler that is returned from the workflow. The stream returns a variety of event types as the workflow executes, and you can select which ones to handle.\n",
        "\n",
        "* If you want to stream the LLM output, you can use the `AgentStream` events, which contain a `delta` of the new output each time\n",
        "* `AgentInput` events will tell you which agent is running (our current workflow just has one agent)\n",
        "* `AgentOutput` events will tell you what the agents returned, including which tools they called\n",
        "* `ToolCall` and `ToolCallResults` will track tools as they are called and their outputs\n",
        "\n",
        "In this example we're only handling the `AgentStream` events, but you can see in the commented-out code how we'd handle the other kinds. You can tell our handling is working because the output will appear in chunks as you run the cell, rather than appearing all at once."
      ]
    },
    {
      "cell_type": "code",
      "execution_count": null,
      "metadata": {
        "colab": {
          "base_uri": "https://localhost:8080/"
        },
        "id": "v1yfIe1608Sh",
        "outputId": "f69479ca-f453-4733-e3e1-a9ecd2905ed0"
      },
      "outputs": [
        {
          "output_type": "stream",
          "name": "stdout",
          "text": [
            "The current weather in Saskatoon is as follows:\n",
            "\n",
            "- **Temperature**: -0.9°C (30.4°F)\n",
            "- **Condition**: Overcast\n",
            "- **Wind**: 5.4 mph (8.6 kph) from the SSE\n",
            "- **Humidity**: 69%\n",
            "- **Feels Like**: -4.0°C (24.8°F)\n",
            "- **Visibility**: 24 km (14 miles)\n",
            "\n",
            "For more details, you can check the full weather report [here](https://www.weatherapi.com/)."
          ]
        }
      ],
      "source": [
        "from llama_index.core.agent.workflow import (\n",
        "    AgentInput,\n",
        "    AgentOutput,\n",
        "    ToolCall,\n",
        "    ToolCallResult,\n",
        "    AgentStream,\n",
        ")\n",
        "\n",
        "handler = workflow.run(user_msg=\"What is the weather in Saskatoon?\")\n",
        "\n",
        "async for event in handler.stream_events():\n",
        "    if isinstance(event, AgentStream):\n",
        "        print(event.delta, end=\"\", flush=True)\n",
        "        # print(event.response)  # the current full response\n",
        "        # print(event.raw)  # the raw llm api response\n",
        "        # print(event.current_agent_name)  # the current agent name\n",
        "    # elif isinstance(event, AgentInput):\n",
        "    #    print(event.input)  # the current input messages\n",
        "    #    print(event.current_agent_name)  # the current agent name\n",
        "    # elif isinstance(event, AgentOutput):\n",
        "    #    print(event.response)  # the current full response\n",
        "    #    print(event.tool_calls)  # the selected tool calls, if any\n",
        "    #    print(event.raw)  # the raw llm api response\n",
        "    # elif isinstance(event, ToolCallResult):\n",
        "    #    print(event.tool_name)  # the tool name\n",
        "    #    print(event.tool_kwargs)  # the tool kwargs\n",
        "    #    print(event.tool_output)  # the tool output\n",
        "    # elif isinstance(event, ToolCall):\n",
        "    #     print(event.tool_name)  # the tool name\n",
        "    #     print(event.tool_kwargs)  # the tool kwargs"
      ]
    },
    {
      "cell_type": "markdown",
      "source": [
        "Let's see what's happening in more detail by turning on more logging and running it again."
      ],
      "metadata": {
        "id": "ieQE1kbbPXjS"
      }
    },
    {
      "cell_type": "code",
      "source": [
        "from llama_index.core.agent.workflow import (\n",
        "    AgentInput,\n",
        "    AgentOutput,\n",
        "    ToolCall,\n",
        "    ToolCallResult,\n",
        "    AgentStream,\n",
        ")\n",
        "\n",
        "handler = workflow.run(user_msg=\"What is the weather in Saskatoon?\")\n",
        "\n",
        "async for event in handler.stream_events():\n",
        "    if isinstance(event, AgentInput):\n",
        "       print(\"Agent input: \", event.input)  # the current input messages\n",
        "       print(\"Agent name:\", event.current_agent_name)  # the current agent name\n",
        "    elif isinstance(event, AgentOutput):\n",
        "       print(\"Agent output: \", event.response)  # the current full response\n",
        "       print(\"Tool calls made: \", event.tool_calls)  # the selected tool calls, if any\n",
        "       print(\"Raw LLM response: \", event.raw)  # the raw llm api response\n",
        "    elif isinstance(event, ToolCallResult):\n",
        "       print(\"Tool called: \", event.tool_name)  # the tool name\n",
        "       print(\"Arguments to the tool: \", event.tool_kwargs)  # the tool kwargs\n",
        "       print(\"Tool output: \", event.tool_output)  # the tool output"
      ],
      "metadata": {
        "colab": {
          "base_uri": "https://localhost:8080/"
        },
        "id": "5dTsGvQ_Pb0r",
        "outputId": "bf5e15d4-a101-4b39-e924-cee95021cac5"
      },
      "execution_count": null,
      "outputs": [
        {
          "output_type": "stream",
          "name": "stdout",
          "text": [
            "Agent input:  [ChatMessage(role=<MessageRole.SYSTEM: 'system'>, additional_kwargs={}, blocks=[TextBlock(block_type='text', text=\"You are a helpful assistant that answers questions. If you don't know the answer, you can search the web for information.\")]), ChatMessage(role=<MessageRole.USER: 'user'>, additional_kwargs={}, blocks=[TextBlock(block_type='text', text='What is the weather in Saskatoon?')])]\n",
            "Agent name: Agent\n",
            "Agent output:  assistant: None\n",
            "Tool calls made:  [ToolSelection(tool_id='call_JkXUDizCmpy0bngigJMy00LQ', tool_name='search_web', tool_kwargs={'query': 'current weather in Saskatoon'})]\n",
            "Raw LLM response:  {'id': 'chatcmpl-Av70m2grvE33Lx1zQoAItx9kl9yKk', 'choices': [{'delta': {'content': None, 'function_call': None, 'refusal': None, 'role': None, 'tool_calls': None}, 'finish_reason': 'tool_calls', 'index': 0, 'logprobs': None}], 'created': 1738175012, 'model': 'gpt-4o-mini-2024-07-18', 'object': 'chat.completion.chunk', 'service_tier': 'default', 'system_fingerprint': 'fp_72ed7ab54c', 'usage': None}\n",
            "Tool called:  search_web\n",
            "Arguments to the tool:  {'query': 'current weather in Saskatoon'}\n",
            "Tool output:  {'query': 'current weather in Saskatoon', 'follow_up_questions': None, 'answer': None, 'images': [], 'results': [{'title': 'Weather in Saskatoon', 'url': 'https://www.weatherapi.com/', 'content': \"{'location': {'name': 'Saskatoon', 'region': 'Saskatchewan', 'country': 'Canada', 'lat': 52.1333, 'lon': -106.6667, 'tz_id': 'America/Regina', 'localtime_epoch': 1738174901, 'localtime': '2025-01-29 12:21'}, 'current': {'last_updated_epoch': 1738174500, 'last_updated': '2025-01-29 12:15', 'temp_c': -0.9, 'temp_f': 30.4, 'is_day': 1, 'condition': {'text': 'Overcast', 'icon': '//cdn.weatherapi.com/weather/64x64/day/122.png', 'code': 1009}, 'wind_mph': 5.4, 'wind_kph': 8.6, 'wind_degree': 149, 'wind_dir': 'SSE', 'pressure_mb': 1006.0, 'pressure_in': 29.71, 'precip_mm': 0.0, 'precip_in': 0.0, 'humidity': 69, 'cloud': 100, 'feelslike_c': -4.0, 'feelslike_f': 24.8, 'windchill_c': -6.6, 'windchill_f': 20.1, 'heatindex_c': -2.2, 'heatindex_f': 28.1, 'dewpoint_c': -3.3, 'dewpoint_f': 26.1, 'vis_km': 24.0, 'vis_miles': 14.0, 'uv': 0.9, 'gust_mph': 10.0, 'gust_kph': 16.1}}\", 'score': 0.9291281, 'raw_content': None}, {'title': 'Weather in Saskatoon in January 2025', 'url': 'https://world-weather.info/forecast/canada/saskatoon/january-2025/', 'content': \"Weather in Saskatoon in January 2025 (Saskatchewan) - Detailed Weather Forecast for a Month Weather Weather in Saskatoon Weather in Saskatoon in January 2025 1 -6°-2° 2 -9°-11° 3 -20°-18° 4 -15°-20° 5 0°-6° 6 -6°+3° 7 +9°-9° 8 +32°+21° 9 +23°+28° 10 +23°+9° 11 +9°+30° 12 -11°-9° 13 +3°-13° 14 +10°+12° 15 +34°+34° 16 +32°+19° 17 +10°+23° 18 -11°-2° 19 -11°-17° 20 -15°-20° 21 +18°-11° 22 +25°+25° 23 +21°+18° 24 +21°+18° 25 +9°+12° 26 +1°+3° 27 +25°+3° 28 +18°+21° 29 +10°+10° 30 +3°+1° 31 -4°+9° HourlyWeek10-Day14-Day30-DayYear Weather in Ottawa+23° Flin Flon+14° Fort Saskatchewan+36° Sherwood Park+34° Leduc+34° Edmonton+36° Red Deer+34° St. Albert+36° Lethbridge+41° Camrose+36° Estevan+32° The Pas+19° North Battleford+30° Moose Jaw+36° Swift Current+37° Regina+25° Waldeck+37° world's temperature today day day\", 'score': 0.852752, 'raw_content': None}, {'title': 'Saskatoon weather in January 2025 | Saskatoon 14 day weather', 'url': 'https://www.weather25.com/north-america/canada/saskatchewan/saskatoon?page=month&month=January', 'content': 'Saskatoon weather in January 2025 | Saskatoon 14 day weather Saskatoon  Saskatoon Saskatoon weather in January 2025 🌨️ Snowy days in Saskatoon 2025 (January) The average weather in Saskatoon in January The weather in Saskatoon in January is very cold with temperatures between -17°C and -10°C, warm clothes are a must. | Saskatoon in January | | Saskatoon in May | Temperatures in Saskatoon in January Weather in Saskatoon in January - FAQ The average temperature in Saskatoon in January is -17/-10° C. On average, there are 2 rainy days in Saskatoon during January. The weather in Saskatoon in January is awful. Can it snow in Saskatoon in January? On average, there are 17 snowy days in Saskatoon in January.', 'score': 0.81875163, 'raw_content': None}, {'title': 'Saskatoon weather in January 2025 - METEOPROG.COM', 'url': 'https://www.meteoprog.com/weather/Saskatoon/month/january/', 'content': 'Saskatoon weather in January 2025 ⋆ Saskatoon temperature in January ≡ Weather forecast in Canada | METEOPROG Weather in Canada Weather Widgets Русский (UA) Русский WEATHER 7-day Forecast Weather on a map Weather Widget Русский (UA) Русский 2 Weeks Saskatoon weather in January 2025 January in Saskatoon Max. temperature +7.8°C Min. temperature -46.5°C -13° -20° +3° -4° -2° -13° -15° -3° -13° -13° -14° -16° -31° -7° Weather Weather in Canada Monthly weather forecast in Saskatoon Weather in January 2 Weeks Weather Widgets Editorial policy Hyperlink to Meteoprog.com is required when using materials from the site. The editorial staff of the project may not share the opinion of the authors and is not responsible for copyrighted materials. Русский (UA) Русский', 'score': 0.8021998, 'raw_content': None}, {'title': 'Weather in Saskatoon in January 2025 - Detailed Forecast', 'url': 'https://www.easeweather.com/north-america/canada/saskatchewan/saskatoon/january', 'content': \"Weather in Saskatoon in January 2025 - Detailed Forecast Weather in Saskatoon for January 2025 Your guide to Saskatoon weather in January - trends and predictions According to Saskatoon snow forecast for January 2025, 3 snowy days are expected until the end of the month. In general, the average temperature in Saskatoon at the beginning of January is -10.1\\xa0°C. New Year's Day weather in Saskatoon 🎉 - See the complete forecast for Monday, 1 January. Saskatoon in January average weather Temperatures trend during January in Saskatoon Saskatoon in January - FAQ Will it snow in Saskatoon in January 2025? Saskatoon snow forecast January 2025 Explore the daily rainfall trends and prepare for Saskatoons January weather\\xa0💧\", 'score': 0.78054583, 'raw_content': None}], 'response_time': 2.31}\n",
            "Agent input:  [ChatMessage(role=<MessageRole.SYSTEM: 'system'>, additional_kwargs={}, blocks=[TextBlock(block_type='text', text=\"You are a helpful assistant that answers questions. If you don't know the answer, you can search the web for information.\")]), ChatMessage(role=<MessageRole.USER: 'user'>, additional_kwargs={}, blocks=[TextBlock(block_type='text', text='What is the weather in Saskatoon?')]), ChatMessage(role=<MessageRole.ASSISTANT: 'assistant'>, additional_kwargs={'tool_calls': [ChoiceDeltaToolCall(index=0, id='call_JkXUDizCmpy0bngigJMy00LQ', function=ChoiceDeltaToolCallFunction(arguments='{\"query\":\"current weather in Saskatoon\"}', name='search_web'), type='function')]}, blocks=[TextBlock(block_type='text', text='')]), ChatMessage(role=<MessageRole.TOOL: 'tool'>, additional_kwargs={'tool_call_id': 'call_JkXUDizCmpy0bngigJMy00LQ'}, blocks=[TextBlock(block_type='text', text='{\\'query\\': \\'current weather in Saskatoon\\', \\'follow_up_questions\\': None, \\'answer\\': None, \\'images\\': [], \\'results\\': [{\\'title\\': \\'Weather in Saskatoon\\', \\'url\\': \\'https://www.weatherapi.com/\\', \\'content\\': \"{\\'location\\': {\\'name\\': \\'Saskatoon\\', \\'region\\': \\'Saskatchewan\\', \\'country\\': \\'Canada\\', \\'lat\\': 52.1333, \\'lon\\': -106.6667, \\'tz_id\\': \\'America/Regina\\', \\'localtime_epoch\\': 1738174901, \\'localtime\\': \\'2025-01-29 12:21\\'}, \\'current\\': {\\'last_updated_epoch\\': 1738174500, \\'last_updated\\': \\'2025-01-29 12:15\\', \\'temp_c\\': -0.9, \\'temp_f\\': 30.4, \\'is_day\\': 1, \\'condition\\': {\\'text\\': \\'Overcast\\', \\'icon\\': \\'//cdn.weatherapi.com/weather/64x64/day/122.png\\', \\'code\\': 1009}, \\'wind_mph\\': 5.4, \\'wind_kph\\': 8.6, \\'wind_degree\\': 149, \\'wind_dir\\': \\'SSE\\', \\'pressure_mb\\': 1006.0, \\'pressure_in\\': 29.71, \\'precip_mm\\': 0.0, \\'precip_in\\': 0.0, \\'humidity\\': 69, \\'cloud\\': 100, \\'feelslike_c\\': -4.0, \\'feelslike_f\\': 24.8, \\'windchill_c\\': -6.6, \\'windchill_f\\': 20.1, \\'heatindex_c\\': -2.2, \\'heatindex_f\\': 28.1, \\'dewpoint_c\\': -3.3, \\'dewpoint_f\\': 26.1, \\'vis_km\\': 24.0, \\'vis_miles\\': 14.0, \\'uv\\': 0.9, \\'gust_mph\\': 10.0, \\'gust_kph\\': 16.1}}\", \\'score\\': 0.9291281, \\'raw_content\\': None}, {\\'title\\': \\'Weather in Saskatoon in January 2025\\', \\'url\\': \\'https://world-weather.info/forecast/canada/saskatoon/january-2025/\\', \\'content\\': \"Weather in Saskatoon in January 2025 (Saskatchewan) - Detailed Weather Forecast for a Month Weather Weather in Saskatoon Weather in Saskatoon in January 2025 1 -6°-2° 2 -9°-11° 3 -20°-18° 4 -15°-20° 5 0°-6° 6 -6°+3° 7 +9°-9° 8 +32°+21° 9 +23°+28° 10 +23°+9° 11 +9°+30° 12 -11°-9° 13 +3°-13° 14 +10°+12° 15 +34°+34° 16 +32°+19° 17 +10°+23° 18 -11°-2° 19 -11°-17° 20 -15°-20° 21 +18°-11° 22 +25°+25° 23 +21°+18° 24 +21°+18° 25 +9°+12° 26 +1°+3° 27 +25°+3° 28 +18°+21° 29 +10°+10° 30 +3°+1° 31 -4°+9° HourlyWeek10-Day14-Day30-DayYear Weather in Ottawa+23° Flin Flon+14° Fort Saskatchewan+36° Sherwood Park+34° Leduc+34° Edmonton+36° Red Deer+34° St. Albert+36° Lethbridge+41° Camrose+36° Estevan+32° The Pas+19° North Battleford+30° Moose Jaw+36° Swift Current+37° Regina+25° Waldeck+37° world\\'s temperature today day day\", \\'score\\': 0.852752, \\'raw_content\\': None}, {\\'title\\': \\'Saskatoon weather in January 2025 | Saskatoon 14 day weather\\', \\'url\\': \\'https://www.weather25.com/north-america/canada/saskatchewan/saskatoon?page=month&month=January\\', \\'content\\': \\'Saskatoon weather in January 2025 | Saskatoon 14 day weather Saskatoon  Saskatoon Saskatoon weather in January 2025 🌨️ Snowy days in Saskatoon 2025 (January) The average weather in Saskatoon in January The weather in Saskatoon in January is very cold with temperatures between -17°C and -10°C, warm clothes are a must. | Saskatoon in January | | Saskatoon in May | Temperatures in Saskatoon in January Weather in Saskatoon in January - FAQ The average temperature in Saskatoon in January is -17/-10° C. On average, there are 2 rainy days in Saskatoon during January. The weather in Saskatoon in January is awful. Can it snow in Saskatoon in January? On average, there are 17 snowy days in Saskatoon in January.\\', \\'score\\': 0.81875163, \\'raw_content\\': None}, {\\'title\\': \\'Saskatoon weather in January 2025 - METEOPROG.COM\\', \\'url\\': \\'https://www.meteoprog.com/weather/Saskatoon/month/january/\\', \\'content\\': \\'Saskatoon weather in January 2025 ⋆ Saskatoon temperature in January ≡ Weather forecast in Canada | METEOPROG Weather in Canada Weather Widgets Русский (UA) Русский WEATHER 7-day Forecast Weather on a map Weather Widget Русский (UA) Русский 2 Weeks Saskatoon weather in January 2025 January in Saskatoon Max. temperature +7.8°C Min. temperature -46.5°C -13° -20° +3° -4° -2° -13° -15° -3° -13° -13° -14° -16° -31° -7° Weather Weather in Canada Monthly weather forecast in Saskatoon Weather in January 2 Weeks Weather Widgets Editorial policy Hyperlink to Meteoprog.com is required when using materials from the site. The editorial staff of the project may not share the opinion of the authors and is not responsible for copyrighted materials. Русский (UA) Русский\\', \\'score\\': 0.8021998, \\'raw_content\\': None}, {\\'title\\': \\'Weather in Saskatoon in January 2025 - Detailed Forecast\\', \\'url\\': \\'https://www.easeweather.com/north-america/canada/saskatchewan/saskatoon/january\\', \\'content\\': \"Weather in Saskatoon in January 2025 - Detailed Forecast Weather in Saskatoon for January 2025 Your guide to Saskatoon weather in January - trends and predictions According to Saskatoon snow forecast for January 2025, 3 snowy days are expected until the end of the month. In general, the average temperature in Saskatoon at the beginning of January is -10.1\\\\xa0°C. New Year\\'s Day weather in Saskatoon 🎉 - See the complete forecast for Monday, 1 January. Saskatoon in January average weather Temperatures trend during January in Saskatoon Saskatoon in January - FAQ Will it snow in Saskatoon in January 2025? Saskatoon snow forecast January 2025 Explore the daily rainfall trends and prepare for Saskatoons January weather\\\\xa0💧\", \\'score\\': 0.78054583, \\'raw_content\\': None}], \\'response_time\\': 2.31}')])]\n",
            "Agent name: Agent\n",
            "Agent output:  assistant: The current weather in Saskatoon is as follows:\n",
            "\n",
            "- **Temperature**: -0.9°C (30.4°F)\n",
            "- **Condition**: Overcast\n",
            "- **Feels Like**: -4.0°C (24.8°F)\n",
            "- **Wind**: 5.4 mph (8.6 kph) from the SSE\n",
            "- **Humidity**: 69%\n",
            "- **Visibility**: 24 km\n",
            "- **Cloud Cover**: 100%\n",
            "\n",
            "For more detailed information, you can check [WeatherAPI](https://www.weatherapi.com/).\n",
            "Tool calls made:  []\n",
            "Raw LLM response:  {'id': 'chatcmpl-Av70q9p4Yr0NqEiT9tcQmxNX3Dgbi', 'choices': [{'delta': {'content': None, 'function_call': None, 'refusal': None, 'role': None, 'tool_calls': None}, 'finish_reason': 'stop', 'index': 0, 'logprobs': None}], 'created': 1738175016, 'model': 'gpt-4o-mini-2024-07-18', 'object': 'chat.completion.chunk', 'service_tier': 'default', 'system_fingerprint': 'fp_72ed7ab54c', 'usage': None}\n"
          ]
        }
      ]
    },
    {
      "cell_type": "markdown",
      "source": [
        "You can see the agent accepting input, picking the web search tool, calling it with appropriate arguments, and returning the output."
      ],
      "metadata": {
        "id": "ROSqJW2wQRdm"
      }
    },
    {
      "cell_type": "markdown",
      "metadata": {
        "id": "A9UNKWuQ08Sh"
      },
      "source": [
        "## Tools and State\n",
        "\n",
        "Tools can also be defined that have access to the workflow context. This means you can set and retrieve variables from the context and use them in the tool or between tools.\n",
        "\n",
        "`AgentWorkflow` uses a context variable called `state` that gets passed to every agent. You can rely on information in `state` being available without explicitly having to pass it in.\n",
        "\n",
        "**Note:** To access the `Context`, the Context parameter should be the first parameter of the tool."
      ]
    },
    {
      "cell_type": "code",
      "execution_count": null,
      "metadata": {
        "colab": {
          "base_uri": "https://localhost:8080/"
        },
        "id": "Ya-VYQ9I08Sh",
        "outputId": "d3738493-0a9f-4ece-828f-cd9ad8f87b07"
      },
      "outputs": [
        {
          "output_type": "stream",
          "name": "stdout",
          "text": [
            "Your name has been set to Laurie.\n",
            "Name as stored in state:  Laurie\n"
          ]
        }
      ],
      "source": [
        "from llama_index.core.workflow import Context\n",
        "\n",
        "async def set_name(ctx: Context, name: str) -> str:\n",
        "    state = await ctx.get(\"state\")\n",
        "    state[\"name\"] = name\n",
        "    await ctx.set(\"state\", state)\n",
        "    return f\"Name set to {name}\"\n",
        "\n",
        "\n",
        "workflow = AgentWorkflow.from_tools_or_functions(\n",
        "    [set_name],\n",
        "    llm=llm,\n",
        "    system_prompt=\"You are a helpful assistant that can set a name.\",\n",
        "    initial_state={\"name\": \"unset\"},\n",
        ")\n",
        "\n",
        "ctx = Context(workflow)\n",
        "\n",
        "response = await workflow.run(user_msg=\"My name is Laurie\", ctx=ctx)\n",
        "print(str(response))\n",
        "\n",
        "state = await ctx.get(\"state\")\n",
        "print(\"Name as stored in state: \",state[\"name\"])"
      ]
    },
    {
      "cell_type": "markdown",
      "metadata": {
        "id": "2-4RZwpr08Sh"
      },
      "source": [
        "## Human in the Loop\n",
        "\n",
        "Tools can also be defined that involve a human in the loop. This is useful for tasks that require human input, such as confirming a tool call or providing feedback.\n",
        "\n",
        "As we'll see in the next section, the way `Workflow`s work under the hood of `AgentWorkflow` is by running `step`s which both emit and receive events. Here's a diagram of the steps (in blue) that makes up an AgentWorkflow and the events (in green) that pass data between them. You'll recognize these events, they're the same ones we were handling in the output stream earlier."
      ]
    },
    {
      "cell_type": "markdown",
      "source": [
        "<img width=\"500\" src=\"data:image/jpeg;base64,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\">"
      ],
      "metadata": {
        "id": "hFEHh8AZcYN8"
      }
    },
    {
      "cell_type": "markdown",
      "source": [
        " To get a human in the loop, we'll get our tool to emit an event that isn't received by any other step in the workflow. We'll then tell our tool to wait until it receives a specific \"reply\" event.\n",
        "\n",
        "This is a very common pattern for human in the loop, so we have built-in `InputRequiredEvent` and `HumanResponseEvent` events to use for this purpose. If you want to capture different forms of human input, you can subclass these events to match your own preferences."
      ],
      "metadata": {
        "id": "St0f_kgScXFG"
      }
    },
    {
      "cell_type": "code",
      "execution_count": null,
      "metadata": {
        "id": "yJmt0ppQ08Si"
      },
      "outputs": [],
      "source": [
        "from llama_index.core.workflow import (\n",
        "    Context,\n",
        "    InputRequiredEvent,\n",
        "    HumanResponseEvent,\n",
        ")\n",
        "\n",
        "# a tool that performs a dangerous task\n",
        "async def dangerous_task(ctx: Context) -> str:\n",
        "    \"\"\"A dangerous task that requires human confirmation.\"\"\"\n",
        "\n",
        "    # emit an event to the external stream to be captured\n",
        "    ctx.write_event_to_stream(\n",
        "        InputRequiredEvent(\n",
        "            prefix=\"Are you sure you want to proceed? \",\n",
        "            user_name=\"Laurie\",\n",
        "        )\n",
        "    )\n",
        "\n",
        "    # wait until we see a HumanResponseEvent\n",
        "    response = await ctx.wait_for_event(\n",
        "        HumanResponseEvent, requirements={\"user_name\": \"Laurie\"}\n",
        "    )\n",
        "\n",
        "    # act on the input from the event\n",
        "    if response.response.strip().lower() == \"yes\":\n",
        "        return \"Dangerous task completed successfully.\"\n",
        "    else:\n",
        "        return \"Dangerous task aborted.\"\n",
        "\n",
        "\n",
        "workflow = AgentWorkflow.from_tools_or_functions(\n",
        "    [dangerous_task],\n",
        "    llm=llm,\n",
        "    system_prompt=\"You are a helpful assistant that can perform dangerous tasks.\",\n",
        ")"
      ]
    },
    {
      "cell_type": "markdown",
      "source": [
        "To capture the event, we use the same streaming interface we used earlier and look for an `InputRequiredEvent`. Then we can use `input` to capture a response from the user, and send it back using the `send_event` method."
      ],
      "metadata": {
        "id": "8YMO88S5Ycuy"
      }
    },
    {
      "cell_type": "code",
      "execution_count": null,
      "metadata": {
        "colab": {
          "base_uri": "https://localhost:8080/"
        },
        "id": "7ArX48Sw08Si",
        "outputId": "47063787-c171-4d01-b8a8-b7c5cba82650"
      },
      "outputs": [
        {
          "output_type": "stream",
          "name": "stdout",
          "text": [
            "Are you sure you want to proceed? Yes\n",
            "The dangerous task has been completed successfully. If you need anything else, feel free to ask!\n"
          ]
        }
      ],
      "source": [
        "handler = workflow.run(user_msg=\"I want to proceed with the dangerous task.\")\n",
        "\n",
        "async for event in handler.stream_events():\n",
        "    # capture InputRequiredEvent\n",
        "    if isinstance(event, InputRequiredEvent):\n",
        "        # capture keyboard input\n",
        "        response = input(event.prefix)\n",
        "        # send our response back\n",
        "        handler.ctx.send_event(\n",
        "            HumanResponseEvent(\n",
        "                response=response,\n",
        "                user_name=event.user_name,\n",
        "            )\n",
        "        )\n",
        "\n",
        "response = await handler\n",
        "print(str(response))"
      ]
    },
    {
      "cell_type": "markdown",
      "source": [
        "# Congratulations!\n",
        "\n",
        "You've created your first agent. But `AgentWorkflow`s can do more than single agents; they can also create teams of agents that work together, a very flexible and powerful pattern. Let's see how that works by creating a system that can generate a report on a given topic."
      ],
      "metadata": {
        "id": "FiSJ0GxDabsb"
      }
    },
    {
      "cell_type": "markdown",
      "source": [
        "## Multi-agent System Design\n",
        "\n",
        "Our system will have three agents:\n",
        "\n",
        "1. A `ResearchAgent` that will search the web for information on the given topic.\n",
        "2. A `WriteAgent` that will write the report using the information found by the `ResearchAgent`.\n",
        "3. A `ReviewAgent` that will review the report and provide feedback.\n",
        "\n",
        "We will use the `AgentWorkflow` class to create a multi-agent system that will execute these agents in order.\n",
        "\n",
        "There are a lot of ways we could go about building a system to perform this task. In this example, we will use a few tools to help with the research and writing processes.\n",
        "\n",
        "1. A `web_search` tool to search the web for information on the given topic.\n",
        "2. A `record_notes` tool which will save research found on the web to the state so that the other tools can use it.\n",
        "3. A `write_report` tool to write the report using the information found by the `ResearchAgent`\n",
        "4. A `review_report` tool to review the report and provide feedback.\n",
        "\n",
        "Utilizing the `Context` class, we can pass state between agents, and each agent will have access to the current state of the system.\n"
      ],
      "metadata": {
        "id": "FfaqqT4JayH2"
      }
    },
    {
      "cell_type": "markdown",
      "source": [
        "We'll use the same Tavily tool we used in our basic agent to help us again."
      ],
      "metadata": {
        "id": "PkdbK0q2a_9M"
      }
    },
    {
      "cell_type": "code",
      "source": [
        "async def search_web(query: str) -> str:\n",
        "    \"\"\"Useful for using the web to answer questions.\"\"\"\n",
        "    client = AsyncTavilyClient(api_key=tavily_api_key)\n",
        "    return str(await client.search(query))\n",
        "\n",
        "\n",
        "async def record_notes(ctx: Context, notes: str, notes_title: str) -> str:\n",
        "    \"\"\"Useful for recording notes on a given topic.\"\"\"\n",
        "    current_state = await ctx.get(\"state\")\n",
        "    if \"research_notes\" not in current_state:\n",
        "        current_state[\"research_notes\"] = {}\n",
        "    current_state[\"research_notes\"][notes_title] = notes\n",
        "    await ctx.set(\"state\", current_state)\n",
        "    return \"Notes recorded.\"\n",
        "\n",
        "\n",
        "async def write_report(ctx: Context, report_content: str) -> str:\n",
        "    \"\"\"Useful for writing a report on a given topic.\"\"\"\n",
        "    current_state = await ctx.get(\"state\")\n",
        "    current_state[\"report_content\"] = report_content\n",
        "    await ctx.set(\"state\", current_state)\n",
        "    return \"Report written.\"\n",
        "\n",
        "\n",
        "async def review_report(ctx: Context, review: str) -> str:\n",
        "    \"\"\"Useful for reviewing a report and providing feedback.\"\"\"\n",
        "    current_state = await ctx.get(\"state\")\n",
        "    current_state[\"review\"] = review\n",
        "    await ctx.set(\"state\", current_state)\n",
        "    return \"Report reviewed.\""
      ],
      "metadata": {
        "id": "2FSdTHAcbDxo"
      },
      "execution_count": null,
      "outputs": []
    },
    {
      "cell_type": "markdown",
      "source": [
        "With our tools defined, we can now create our agents.\n",
        "\n",
        "If the LLM you are using supports tool calling, you can use the `FunctionAgent` class, which is a little more efficient. Otherwise, you can use the `ReActAgent` class.\n",
        "\n",
        "Here, the name and description of each agent is used so that the system knows what each agent is responsible for and when to hand off control to the next agent.\n",
        "\n",
        "Like our single-agent system did before, each agent takes a `system_prompt` that tells it what it should do, and suggests how to work with the other agents.\n",
        "\n",
        "You can also optionally help your multi-agent system constrain itself by listing which other agents an agent can talk to using `can_handoff_to` (otherwise it will just try to figure this out on its own)."
      ],
      "metadata": {
        "id": "NysBWF0TdrLe"
      }
    },
    {
      "cell_type": "code",
      "source": [
        "from llama_index.core.agent.workflow import FunctionAgent, ReActAgent\n",
        "\n",
        "research_agent = FunctionAgent(\n",
        "    name=\"ResearchAgent\",\n",
        "    description=\"Useful for searching the web for information on a given topic and recording notes on the topic.\",\n",
        "    system_prompt=(\n",
        "        \"You are the ResearchAgent that can search the web for information on a given topic and record notes on the topic. \"\n",
        "        \"Once notes are recorded and you are satisfied, you should hand off control to the WriteAgent to write a report on the topic.\"\n",
        "    ),\n",
        "    llm=llm,\n",
        "    tools=[search_web, record_notes],\n",
        "    can_handoff_to=[\"WriteAgent\"],\n",
        ")\n",
        "\n",
        "write_agent = FunctionAgent(\n",
        "    name=\"WriteAgent\",\n",
        "    description=\"Useful for writing a report on a given topic.\",\n",
        "    system_prompt=(\n",
        "        \"You are the WriteAgent that can write a report on a given topic. \"\n",
        "        \"Your report should be in a markdown format. The content should be grounded in the research notes. \"\n",
        "        \"Once the report is written, you should get feedback at least once from the ReviewAgent.\"\n",
        "    ),\n",
        "    llm=llm,\n",
        "    tools=[write_report],\n",
        "    can_handoff_to=[\"ReviewAgent\", \"ResearchAgent\"],\n",
        ")\n",
        "\n",
        "review_agent = FunctionAgent(\n",
        "    name=\"ReviewAgent\",\n",
        "    description=\"Useful for reviewing a report and providing feedback.\",\n",
        "    system_prompt=(\n",
        "        \"You are the ReviewAgent that can review a report and provide feedback. \"\n",
        "        \"Your feedback should either approve the current report or request changes for the WriteAgent to implement.\"\n",
        "    ),\n",
        "    llm=llm,\n",
        "    tools=[review_report],\n",
        "    can_handoff_to=[\"WriteAgent\"],\n",
        ")"
      ],
      "metadata": {
        "id": "nyYmO25nduSq"
      },
      "execution_count": null,
      "outputs": []
    },
    {
      "cell_type": "markdown",
      "source": [
        "## Running the Workflow\n",
        "\n",
        "With our agents defined, we can create our `AgentWorkflow` and run it. Since this is a multi-agent system, this looks a little different. Instead of using the helper function, we instantiate it directly. It takes:\n",
        "* an array of agents\n",
        "* the name of the agent that it should start with (this will receive the initial `user_msg`)\n",
        "* an `initial_state` which populates the context variable `state` we mentioned earlier"
      ],
      "metadata": {
        "id": "1Pt0RUhodxQP"
      }
    },
    {
      "cell_type": "code",
      "source": [
        "from llama_index.core.agent.workflow import AgentWorkflow\n",
        "\n",
        "agent_workflow = AgentWorkflow(\n",
        "    agents=[research_agent, write_agent, review_agent],\n",
        "    root_agent=research_agent.name,\n",
        "    initial_state={\n",
        "        \"research_notes\": {},\n",
        "        \"report_content\": \"Not written yet.\",\n",
        "        \"review\": \"Review required.\",\n",
        "    },\n",
        ")"
      ],
      "metadata": {
        "id": "KiOguLyydzl3"
      },
      "execution_count": null,
      "outputs": []
    },
    {
      "cell_type": "markdown",
      "source": [
        "As the workflow is running, we will stream the events to get an idea of what is happening under the hood."
      ],
      "metadata": {
        "id": "YoaXPKSCd3jw"
      }
    },
    {
      "cell_type": "code",
      "source": [
        "from llama_index.core.agent.workflow import (\n",
        "    AgentInput,\n",
        "    AgentOutput,\n",
        "    ToolCall,\n",
        "    ToolCallResult,\n",
        "    AgentStream,\n",
        ")\n",
        "\n",
        "handler = agent_workflow.run(\n",
        "    user_msg=\"Write me a report on the history of the web. Briefly describe the history of the world wide web, including the development of the internet and the development of the web, including 21st century developments\"\n",
        ")\n",
        "\n",
        "current_agent = None\n",
        "current_tool_calls = \"\"\n",
        "async for event in handler.stream_events():\n",
        "    if (\n",
        "        hasattr(event, \"current_agent_name\")\n",
        "        and event.current_agent_name != current_agent\n",
        "    ):\n",
        "        current_agent = event.current_agent_name\n",
        "        print(f\"\\n{'='*50}\")\n",
        "        print(f\"🤖 Agent: {current_agent}\")\n",
        "        print(f\"{'='*50}\\n\")\n",
        "    elif isinstance(event, AgentOutput):\n",
        "        if event.response.content:\n",
        "            print(\"📤 Output:\", event.response.content)\n",
        "        if event.tool_calls:\n",
        "            print(\n",
        "                \"🛠️  Planning to use tools:\",\n",
        "                [call.tool_name for call in event.tool_calls],\n",
        "            )\n",
        "    elif isinstance(event, ToolCallResult):\n",
        "        print(f\"🔧 Tool Result ({event.tool_name}):\")\n",
        "        print(f\"  Arguments: {event.tool_kwargs}\")\n",
        "        print(f\"  Output: {event.tool_output}\")\n",
        "    elif isinstance(event, ToolCall):\n",
        "        print(f\"🔨 Calling Tool: {event.tool_name}\")\n",
        "        print(f\"  With arguments: {event.tool_kwargs}\")"
      ],
      "metadata": {
        "colab": {
          "base_uri": "https://localhost:8080/"
        },
        "id": "N0bahrGzd5_1",
        "outputId": "ad69c274-b788-422a-efbf-334b877a873a"
      },
      "execution_count": null,
      "outputs": [
        {
          "output_type": "stream",
          "name": "stdout",
          "text": [
            "\n",
            "==================================================\n",
            "🤖 Agent: ResearchAgent\n",
            "==================================================\n",
            "\n",
            "🛠️  Planning to use tools: ['search_web']\n",
            "🔨 Calling Tool: search_web\n",
            "  With arguments: {'query': 'history of the world wide web development internet 21st century'}\n",
            "🔧 Tool Result (search_web):\n",
            "  Arguments: {'query': 'history of the world wide web development internet 21st century'}\n",
            "  Output: {'query': 'history of the world wide web development internet 21st century', 'follow_up_questions': None, 'answer': None, 'images': [], 'results': [{'title': 'History of the World Wide Web', 'url': 'https://worldofhistorycheatsheet.com/history-of-the-world-wide-web/', 'content': 'History of the World Wide Web | World of History History of the World Wide Web NSFNET and the Spread of the Web: In the early 1990s, the National Science Foundation Network (NSFNET) in the United States expanded access to the internet for academic and research institutions. The Dot-Com Boom Begins: By 1995, the World Wide Web had become a household term, and the first wave of internet companies, or “dot-coms,” began to emerge. Unlike the early web, where users primarily consumed content, Web 2.0 allowed them to participate more actively through platforms like blogs, wikis, and social networking sites. History, Disrupted: How Social Media and the World Wide Web Have Changed the Past', 'score': 0.6227582, 'raw_content': None}, {'title': 'History of the World Wide Web - Wikipedia', 'url': 'https://en.wikipedia.org/wiki/History_of_the_World_Wide_Web', 'content': 'By December 1990, Berners-Lee and his work team had built all the tools necessary for a working Web: the HyperText Transfer Protocol (HTTP), the HyperText Markup Language (HTML), the first web browser (named WorldWideWeb, which was also a web editor), the first web server (later known as CERN httpd) and the first web site (http://info.cern.ch) containing the first web pages that described the project itself was published on 20 December 1990.[16][17] Through Internet connectivity, manufacturers are now able to interact with the devices they have sold and shipped to their customers, and customers are able to interact with the manufacturer (and other providers) to access a lot of new content.[115]\\nWeb3 (sometimes also referred to as Web 3.0) is an idea for a decentralized Web based on public blockchains, smart contracts, digital tokens and digital wallets.[116]\\nHistoriography[edit]\\nHistoriography of the Web poses specific challenges including, disposable data, missing links, lost content and archived websites, which have consequences for web historians. Mozilla released a mobile OS designed to run web apps in 2012,[110] but discontinued it in 2015.[111]\\nGoogle announced specifications for Accelerated Mobile Pages (AMP),[112] and progressive web applications (PWA) in 2015.[113] AMPs use a combination of HTML, JavaScript, and Web Components to optimize web pages for mobile devices; and PWAs are web pages that, with a combination of web workers and manifest files, can be saved to a mobile device and opened like a native app.\\n In the process, he developed three essential technologies:\\nWith help from Cailliau he published a more formal proposal on 12 November 1990 to build a \"hypertext project\" called World Wide Web (abbreviated \"W3\") as a \"web\" of \"hypertext documents\" to be viewed by \"browsers\" using a client–server architecture.[14][15] The proposal was modelled after the Standard Generalized Markup Language (SGML) reader Dynatext by Electronic Book Technology, a spin-off from the Institute for Research in Information and Scholarship at Brown University. It described a system called \"Mesh\" that referenced ENQUIRE, the database and software project he had built in 1980, with a more elaborate information management system based on links embedded as text: \"Imagine, then, the references in this document all being associated with the network address of the thing to which they referred, so that while reading this document, you could skip to them with a click of the mouse.\"', 'score': 0.5515985, 'raw_content': None}, {'title': 'The History and Evolution of Web Development: From HTML to the ... - Medium', 'url': 'https://medium.com/@Abhishek-Tiwari/the-history-and-evolution-of-web-development-from-html-to-the-modern-web-982e3f90e891', 'content': 'The History and Evolution of Web Development: From HTML to the Modern Web\\nAbhishek Tiwari\\nFollow\\n--\\nListen\\nShare\\nThe World Wide Web has transformed our lives, becoming an integral part of how we access information, communicate, and conduct business. Thanks for reading my blog 😍\\nFollow me\\xa0: https://bio.link/abhishektiwari\\n--\\n--\\nWritten by Abhishek Tiwari\\nFrontend Web Developer | HTML | CSS | JavaScript\\nHelp\\nStatus\\nAbout\\nCareers\\nBlog\\nPrivacy\\nTerms\\nText to speech\\nTeams Progressive Web Apps (PWAs) also became popular, offering offline capabilities and a more app-like experience on the web.\\nModern Web Development\\nWeb development is embracing AI and machine learning for personalized user experiences. In 1990, he proposed the concept of the web and created the first web browser and web server software.\\n From the birth of the World Wide Web to the dynamic, interconnected digital landscape of today, web development has come a long way.', 'score': 0.5385227, 'raw_content': None}, {'title': 'From ARPANET to ChatGPT: The phenomenal rise of the ... - History Skills', 'url': 'https://www.historyskills.com/classroom/year-10/history-of-the-internet/', 'content': \"The internet is a product of decades of technological evolution, starting with early computing machines and rudimentary networks, progressing through to the revolutionary invention of the World Wide Web, and culminating in today's hyper-connected digital age. The Internet is the underlying network that allows data to be shared between computers, while the World Wide Web is a service that operates over the Internet, providing a way to access and share information through web pages and hyperlinks. The 1990s brought about one of the most transformative developments in the history of the internet: the birth of the World Wide Web. In 1989, a British computer scientist named Tim Berners-Lee, working at the European Organization for Nuclear Research (CERN), proposed a global hypertext project, which he called the World Wide Web. Berners-Lee envisioned the web as a platform where researchers could share and access information easily, irrespective of their geographical location.\", 'score': 0.4928966, 'raw_content': None}, {'title': 'History of the Internet and World Wide Web (WWW) - Encyclopedia.com', 'url': 'https://www.encyclopedia.com/economics/encyclopedias-almanacs-transcripts-and-maps/history-internet-and-world-wide-web-www', 'content': 'HISTORY OF THE INTERNET AND WORLD WIDE WEB (WWW) In its short history, the Internet has had a revolutionizing effect, not only on communications and computing, but also on broader areas of lif Source for information on History of the Internet and World Wide Web (WWW): Gale Encyclopedia of E-Commerce dictionary.', 'score': 0.47124818, 'raw_content': None}], 'response_time': 2.25}\n",
            "🛠️  Planning to use tools: ['record_notes', 'record_notes']\n",
            "🔨 Calling Tool: record_notes\n",
            "  With arguments: {'notes': 'The World Wide Web was proposed by Tim Berners-Lee in 1989 while working at CERN. By December 1990, he and his team had developed the essential tools for the web, including HTTP, HTML, the first web browser, and the first web server. The first website was launched on December 20, 1990. The 1990s saw the rise of the dot-com boom, with many internet companies emerging. Web 2.0 allowed for greater user interaction through social media and other platforms. In the 21st century, developments like Web 3.0, which focuses on decentralization and blockchain technology, and Progressive Web Apps (PWAs) have transformed web development. The internet has evolved from ARPANET to a global network, enabling vast amounts of data sharing and communication.', 'notes_title': 'History of the World Wide Web'}\n",
            "🔧 Tool Result (record_notes):\n",
            "  Arguments: {'notes': 'The World Wide Web was proposed by Tim Berners-Lee in 1989 while working at CERN. By December 1990, he and his team had developed the essential tools for the web, including HTTP, HTML, the first web browser, and the first web server. The first website was launched on December 20, 1990. The 1990s saw the rise of the dot-com boom, with many internet companies emerging. Web 2.0 allowed for greater user interaction through social media and other platforms. In the 21st century, developments like Web 3.0, which focuses on decentralization and blockchain technology, and Progressive Web Apps (PWAs) have transformed web development. The internet has evolved from ARPANET to a global network, enabling vast amounts of data sharing and communication.', 'notes_title': 'History of the World Wide Web'}\n",
            "  Output: Notes recorded.\n",
            "🔨 Calling Tool: record_notes\n",
            "  With arguments: {'notes': \"The internet's development began with ARPANET in the late 1960s, which was a network for sharing information among researchers. The transition to the World Wide Web occurred in the early 1990s, leading to widespread public access. The web has since evolved significantly, with the introduction of mobile applications, social media, and e-commerce platforms. The 21st century has seen advancements in web technologies, including AI integration, mobile optimization, and the rise of decentralized applications.\", 'notes_title': 'Development of the Internet'}\n",
            "🔧 Tool Result (record_notes):\n",
            "  Arguments: {'notes': \"The internet's development began with ARPANET in the late 1960s, which was a network for sharing information among researchers. The transition to the World Wide Web occurred in the early 1990s, leading to widespread public access. The web has since evolved significantly, with the introduction of mobile applications, social media, and e-commerce platforms. The 21st century has seen advancements in web technologies, including AI integration, mobile optimization, and the rise of decentralized applications.\", 'notes_title': 'Development of the Internet'}\n",
            "  Output: Notes recorded.\n",
            "🛠️  Planning to use tools: ['handoff']\n",
            "🔨 Calling Tool: handoff\n",
            "  With arguments: {'to_agent': 'WriteAgent', 'reason': 'I have gathered and recorded the necessary notes on the history of the web and the development of the internet.'}\n",
            "🔧 Tool Result (handoff):\n",
            "  Arguments: {'to_agent': 'WriteAgent', 'reason': 'I have gathered and recorded the necessary notes on the history of the web and the development of the internet.'}\n",
            "  Output: Agent WriteAgent is now handling the request due to the following reason: I have gathered and recorded the necessary notes on the history of the web and the development of the internet..\n",
            "Please continue.\n",
            "\n",
            "==================================================\n",
            "🤖 Agent: WriteAgent\n",
            "==================================================\n",
            "\n",
            "🛠️  Planning to use tools: ['write_report']\n",
            "🔨 Calling Tool: write_report\n",
            "  With arguments: {'report_content': '# The History of the World Wide Web\\n\\n## Introduction\\nThe World Wide Web (WWW) has transformed the way we access information, communicate, and conduct business. Its development is closely tied to the evolution of the internet itself, which has undergone significant changes since its inception.\\n\\n## Development of the Internet\\nThe origins of the internet can be traced back to ARPANET, a project initiated in the late 1960s by the U.S. Department of Defense. ARPANET was designed to facilitate communication among researchers and allowed for the sharing of information across different computers. Over the years, this network evolved, leading to the establishment of protocols that enabled different networks to connect, ultimately forming what we now know as the internet.\\n\\n## Birth of the World Wide Web\\nIn 1989, British computer scientist Tim Berners-Lee proposed a global hypertext project while working at CERN. By December 1990, he and his team had developed the essential tools for the web, including the HyperText Transfer Protocol (HTTP), HyperText Markup Language (HTML), the first web browser, and the first web server. The first website was launched on December 20, 1990, marking the official birth of the World Wide Web.\\n\\n## The Dot-Com Boom\\nThe 1990s saw the rise of the dot-com boom, where the World Wide Web became a household term. Many internet companies emerged during this period, leading to a surge in online commerce and information sharing. This era also marked the transition from a primarily content-consumption model to a more interactive web experience.\\n\\n## Web 2.0 and User Interaction\\nWith the advent of Web 2.0, users began to participate more actively in the web experience. Platforms such as blogs, wikis, and social networking sites allowed individuals to create and share content, fostering a more collaborative online environment.\\n\\n## 21st Century Developments\\nThe 21st century has brought about significant advancements in web technology. Concepts like Web 3.0, which focuses on decentralization and blockchain technology, have emerged. Additionally, Progressive Web Apps (PWAs) have gained popularity, offering offline capabilities and a more app-like experience on the web. The integration of artificial intelligence and machine learning has further personalized user experiences, making the web more dynamic and responsive.\\n\\n## Conclusion\\nFrom its humble beginnings as a research project to the vast, interconnected digital landscape we navigate today, the history of the World Wide Web is a testament to human innovation and the relentless pursuit of knowledge. As we move forward, the web will continue to evolve, shaping the way we interact with the world around us.'}\n",
            "🔧 Tool Result (write_report):\n",
            "  Arguments: {'report_content': '# The History of the World Wide Web\\n\\n## Introduction\\nThe World Wide Web (WWW) has transformed the way we access information, communicate, and conduct business. Its development is closely tied to the evolution of the internet itself, which has undergone significant changes since its inception.\\n\\n## Development of the Internet\\nThe origins of the internet can be traced back to ARPANET, a project initiated in the late 1960s by the U.S. Department of Defense. ARPANET was designed to facilitate communication among researchers and allowed for the sharing of information across different computers. Over the years, this network evolved, leading to the establishment of protocols that enabled different networks to connect, ultimately forming what we now know as the internet.\\n\\n## Birth of the World Wide Web\\nIn 1989, British computer scientist Tim Berners-Lee proposed a global hypertext project while working at CERN. By December 1990, he and his team had developed the essential tools for the web, including the HyperText Transfer Protocol (HTTP), HyperText Markup Language (HTML), the first web browser, and the first web server. The first website was launched on December 20, 1990, marking the official birth of the World Wide Web.\\n\\n## The Dot-Com Boom\\nThe 1990s saw the rise of the dot-com boom, where the World Wide Web became a household term. Many internet companies emerged during this period, leading to a surge in online commerce and information sharing. This era also marked the transition from a primarily content-consumption model to a more interactive web experience.\\n\\n## Web 2.0 and User Interaction\\nWith the advent of Web 2.0, users began to participate more actively in the web experience. Platforms such as blogs, wikis, and social networking sites allowed individuals to create and share content, fostering a more collaborative online environment.\\n\\n## 21st Century Developments\\nThe 21st century has brought about significant advancements in web technology. Concepts like Web 3.0, which focuses on decentralization and blockchain technology, have emerged. Additionally, Progressive Web Apps (PWAs) have gained popularity, offering offline capabilities and a more app-like experience on the web. The integration of artificial intelligence and machine learning has further personalized user experiences, making the web more dynamic and responsive.\\n\\n## Conclusion\\nFrom its humble beginnings as a research project to the vast, interconnected digital landscape we navigate today, the history of the World Wide Web is a testament to human innovation and the relentless pursuit of knowledge. As we move forward, the web will continue to evolve, shaping the way we interact with the world around us.'}\n",
            "  Output: Report written.\n",
            "🛠️  Planning to use tools: ['handoff']\n",
            "🔨 Calling Tool: handoff\n",
            "  With arguments: {'to_agent': 'ReviewAgent', 'reason': 'The report on the history of the web is complete and requires review.'}\n",
            "🔧 Tool Result (handoff):\n",
            "  Arguments: {'to_agent': 'ReviewAgent', 'reason': 'The report on the history of the web is complete and requires review.'}\n",
            "  Output: Agent ReviewAgent is now handling the request due to the following reason: The report on the history of the web is complete and requires review..\n",
            "Please continue.\n",
            "\n",
            "==================================================\n",
            "🤖 Agent: ReviewAgent\n",
            "==================================================\n",
            "\n",
            "🛠️  Planning to use tools: ['review_report']\n",
            "🔨 Calling Tool: review_report\n",
            "  With arguments: {'review': 'The report on the history of the web is well-structured and covers the essential aspects of the topic, including the development of the internet, the birth of the World Wide Web, the dot-com boom, Web 2.0, and 21st-century developments. It provides a clear timeline and context for each phase of development. Overall, the report is informative and concise, making it suitable for readers seeking to understand the evolution of the web. I approve this report.'}\n",
            "🔧 Tool Result (review_report):\n",
            "  Arguments: {'review': 'The report on the history of the web is well-structured and covers the essential aspects of the topic, including the development of the internet, the birth of the World Wide Web, the dot-com boom, Web 2.0, and 21st-century developments. It provides a clear timeline and context for each phase of development. Overall, the report is informative and concise, making it suitable for readers seeking to understand the evolution of the web. I approve this report.'}\n",
            "  Output: Report reviewed.\n",
            "📤 Output: The report on the history of the web has been reviewed and approved. It effectively covers the development of the internet and the World Wide Web, including significant milestones and advancements in the 21st century. If you need any further assistance or additional reports, feel free to ask!\n"
          ]
        }
      ]
    },
    {
      "cell_type": "markdown",
      "source": [
        "Now we can see the final output:"
      ],
      "metadata": {
        "id": "h1JccN5cebfc"
      }
    },
    {
      "cell_type": "code",
      "source": [
        "state = await handler.ctx.get(\"state\")\n",
        "print(state[\"report_content\"])"
      ],
      "metadata": {
        "colab": {
          "base_uri": "https://localhost:8080/"
        },
        "id": "DTevKuAYedci",
        "outputId": "b1c5618b-62ea-46e4-bce7-4fba2a33c9bd"
      },
      "execution_count": null,
      "outputs": [
        {
          "output_type": "stream",
          "name": "stdout",
          "text": [
            "# The History of the World Wide Web\n",
            "\n",
            "## Introduction\n",
            "The World Wide Web (WWW) has transformed the way we access information, communicate, and conduct business. Its development is closely tied to the evolution of the internet itself, which has undergone significant changes since its inception.\n",
            "\n",
            "## Development of the Internet\n",
            "The origins of the internet can be traced back to ARPANET, a project initiated in the late 1960s by the U.S. Department of Defense. ARPANET was designed to facilitate communication among researchers and allowed for the sharing of information across different computers. Over the years, this network evolved, leading to the establishment of protocols that enabled different networks to connect, ultimately forming what we now know as the internet.\n",
            "\n",
            "## Birth of the World Wide Web\n",
            "In 1989, British computer scientist Tim Berners-Lee proposed a global hypertext project while working at CERN. By December 1990, he and his team had developed the essential tools for the web, including the HyperText Transfer Protocol (HTTP), HyperText Markup Language (HTML), the first web browser, and the first web server. The first website was launched on December 20, 1990, marking the official birth of the World Wide Web.\n",
            "\n",
            "## The Dot-Com Boom\n",
            "The 1990s saw the rise of the dot-com boom, where the World Wide Web became a household term. Many internet companies emerged during this period, leading to a surge in online commerce and information sharing. This era also marked the transition from a primarily content-consumption model to a more interactive web experience.\n",
            "\n",
            "## Web 2.0 and User Interaction\n",
            "With the advent of Web 2.0, users began to participate more actively in the web experience. Platforms such as blogs, wikis, and social networking sites allowed individuals to create and share content, fostering a more collaborative online environment.\n",
            "\n",
            "## 21st Century Developments\n",
            "The 21st century has brought about significant advancements in web technology. Concepts like Web 3.0, which focuses on decentralization and blockchain technology, have emerged. Additionally, Progressive Web Apps (PWAs) have gained popularity, offering offline capabilities and a more app-like experience on the web. The integration of artificial intelligence and machine learning has further personalized user experiences, making the web more dynamic and responsive.\n",
            "\n",
            "## Conclusion\n",
            "From its humble beginnings as a research project to the vast, interconnected digital landscape we navigate today, the history of the World Wide Web is a testament to human innovation and the relentless pursuit of knowledge. As we move forward, the web will continue to evolve, shaping the way we interact with the world around us.\n"
          ]
        }
      ]
    },
    {
      "cell_type": "code",
      "source": [
        "print(state[\"review\"])"
      ],
      "metadata": {
        "colab": {
          "base_uri": "https://localhost:8080/"
        },
        "id": "izgsc1MkWmOO",
        "outputId": "016895e6-d61c-487b-941c-9485fb36c032"
      },
      "execution_count": null,
      "outputs": [
        {
          "output_type": "stream",
          "name": "stdout",
          "text": [
            "The report on the history of the web is well-structured and covers the essential aspects of the topic, including the development of the internet, the birth of the World Wide Web, the dot-com boom, Web 2.0, and 21st-century developments. It provides a clear timeline and context for each phase of development. Overall, the report is informative and concise, making it suitable for readers seeking to understand the evolution of the web. I approve this report.\n"
          ]
        }
      ]
    },
    {
      "cell_type": "markdown",
      "source": [
        "## Congratulations again!\n",
        "\n",
        "You've successfully put together a multi-agent system using `AgentWorkflow`. `AgentWorkflow` is designed to be a simple jumping-off point for putting together a team of agents to solve a problem. But LlamaIndex can do even more!"
      ],
      "metadata": {
        "id": "nIJWflLAg6zr"
      }
    },
    {
      "cell_type": "markdown",
      "source": [
        "## Building agentic workflows from scratch\n",
        "\n",
        "As mentioned, `AgentWorkflow` is a pre-built `Workflow`, so you've already encountered many of the concepts you need to build a workflow from scratch.\n",
        "\n",
        "You can easily build your own workflows directly to create multi-agent systems that are customized to your needs. There's a number of reasons you might want to branch out from AgentWorkflow to rolling your own workflow:\n",
        "\n",
        "* **Fine-grained flow control**: Workflows allow looping, branching, parallel calls and map-reduce behavior. Workflows allow you to precisely specify how data gets passed around your system.\n",
        "\n",
        "* **Reflection**: A powerful technique for agents is their ability to examine their own output and decide whether it's sufficient, or if they need to try again. Using looping, you can implement this pattern.\n",
        "\n",
        "* **Structured inputs and outputs**: If you want your inputs and outputs to be richer than simple strings, or to kick off with more than just a `user_msg`, workflows allow you to do that.\n",
        "\n",
        "* **Multimodality**: LlamaIndex can handle more than just text! You can handle images, audio and video as well.\n",
        "\n",
        "* **Query planning**: a custom workflow can execute complex planning of how to run based on its inputs, rather than immediately jumping into a team."
      ],
      "metadata": {
        "id": "fe0jHDkRkdut"
      }
    },
    {
      "cell_type": "markdown",
      "source": [
        "## Creating a new workflow\n",
        "\n",
        "Under the hood, Workflows are regular Python classes. They are defined as a series of `steps`, each of which receives certain classes of events and emits certain classes of events.\n",
        "\n",
        "Here's the most basic form of a workflow, with a single step:"
      ],
      "metadata": {
        "id": "BdivtbxHmxjL"
      }
    },
    {
      "cell_type": "code",
      "source": [
        "from llama_index.core.workflow import (\n",
        "    StartEvent,\n",
        "    StopEvent,\n",
        "    Workflow,\n",
        "    step,\n",
        ")\n",
        "\n",
        "class MyWorkflow(Workflow):\n",
        "    @step\n",
        "    async def my_step(self, ev: StartEvent) -> StopEvent:\n",
        "        # do something here\n",
        "        return StopEvent(result=\"Hello, world!\")"
      ],
      "metadata": {
        "id": "fMCRR_GenK1N"
      },
      "execution_count": null,
      "outputs": []
    },
    {
      "cell_type": "markdown",
      "source": [
        "This new `MyWorkflow` class:\n",
        "* Uses the `@step` decorator to declare a function to be a step\n",
        "* Has a single step called `my_step` which accepts a `StartEvent`. `StartEvent` is a special event which is always generated when a workflow first runs.\n",
        "* `my_step` returns a `StopEvent`, which is another special event. When a `StopEvent` is emitted the workflow returns it and stops running.\n",
        "\n",
        "You instantiate it and run it just like you ran the the `AgentWorkflow`:"
      ],
      "metadata": {
        "id": "cBGDxot7nUjG"
      }
    },
    {
      "cell_type": "code",
      "source": [
        "workflow = MyWorkflow(timeout=10, verbose=False)\n",
        "result = await workflow.run()\n",
        "print(result)"
      ],
      "metadata": {
        "colab": {
          "base_uri": "https://localhost:8080/"
        },
        "id": "AlZBKZKhn3hB",
        "outputId": "826e6722-beca-43e1-cf9d-78b5875cd27a"
      },
      "execution_count": null,
      "outputs": [
        {
          "output_type": "stream",
          "name": "stdout",
          "text": [
            "Hello, world!\n"
          ]
        }
      ]
    },
    {
      "cell_type": "markdown",
      "source": [
        "## Type annotations for steps\n",
        "\n",
        "The type annotations (e.g. `ev: StartEvent` and `-> StopEvent`) are essential to the way Workflows work. The expected types determine what event types will trigger a step. Tools like the visualizer (see later) also rely on these annotations to determine what types are generated and therefore where control flow goes next."
      ],
      "metadata": {
        "id": "cLtZoxLRoeTQ"
      }
    },
    {
      "cell_type": "markdown",
      "source": [
        "## Aside: running a workflow in regular python\n",
        "\n",
        "Workflows are async by default, so you use `await` to get the result of the `run` command. This will work fine in a notebook environment; in a vanilla python script you will need to import `asyncio` and wrap your code in an async function, like this:\n",
        "\n",
        "```\n",
        "async def main():\n",
        "    w = MyWorkflow(timeout=10, verbose=False)\n",
        "    result = await w.run()\n",
        "    print(result)\n",
        "\n",
        "\n",
        "if __name__ == \"__main__\":\n",
        "    import asyncio\n",
        "    asyncio.run(main())\n",
        "```\n",
        "\n",
        "Since we're in a notebook right now, we won't execute the above code as it won't work!"
      ],
      "metadata": {
        "id": "T6zX3DLipK2S"
      }
    },
    {
      "cell_type": "markdown",
      "source": [
        "## Visualizing a workflow\n",
        "\n",
        "A great feature of workflows is the built-in visualizer, which we will install now:\n"
      ],
      "metadata": {
        "id": "0Z0RQiJ2poca"
      }
    },
    {
      "cell_type": "code",
      "source": [
        "!pip install llama-index-utils-workflow"
      ],
      "metadata": {
        "colab": {
          "base_uri": "https://localhost:8080/"
        },
        "collapsed": true,
        "id": "WQrdF_1MpSAp",
        "outputId": "ffec0f6e-9f76-4297-c27c-26277a4649d9"
      },
      "execution_count": null,
      "outputs": [
        {
          "output_type": "stream",
          "name": "stdout",
          "text": [
            "Collecting llama-index-utils-workflow\n",
            "  Downloading llama_index_utils_workflow-0.3.0-py3-none-any.whl.metadata (665 bytes)\n",
            "Requirement already satisfied: llama-index-core<0.13.0,>=0.12.0 in /usr/local/lib/python3.11/dist-packages (from llama-index-utils-workflow) (0.12.14)\n",
            "Collecting pyvis<0.4.0,>=0.3.2 (from llama-index-utils-workflow)\n",
            "  Downloading pyvis-0.3.2-py3-none-any.whl.metadata (1.7 kB)\n",
            "Requirement already satisfied: PyYAML>=6.0.1 in /usr/local/lib/python3.11/dist-packages (from llama-index-core<0.13.0,>=0.12.0->llama-index-utils-workflow) (6.0.2)\n",
            "Requirement already satisfied: SQLAlchemy>=1.4.49 in /usr/local/lib/python3.11/dist-packages (from SQLAlchemy[asyncio]>=1.4.49->llama-index-core<0.13.0,>=0.12.0->llama-index-utils-workflow) (2.0.37)\n",
            "Requirement already satisfied: aiohttp<4.0.0,>=3.8.6 in /usr/local/lib/python3.11/dist-packages (from llama-index-core<0.13.0,>=0.12.0->llama-index-utils-workflow) (3.11.11)\n",
            "Requirement already satisfied: dataclasses-json in /usr/local/lib/python3.11/dist-packages (from llama-index-core<0.13.0,>=0.12.0->llama-index-utils-workflow) (0.6.7)\n",
            "Requirement already satisfied: deprecated>=1.2.9.3 in /usr/local/lib/python3.11/dist-packages (from llama-index-core<0.13.0,>=0.12.0->llama-index-utils-workflow) (1.2.18)\n",
            "Requirement already satisfied: dirtyjson<2.0.0,>=1.0.8 in /usr/local/lib/python3.11/dist-packages (from llama-index-core<0.13.0,>=0.12.0->llama-index-utils-workflow) (1.0.8)\n",
            "Requirement already satisfied: filetype<2.0.0,>=1.2.0 in /usr/local/lib/python3.11/dist-packages (from llama-index-core<0.13.0,>=0.12.0->llama-index-utils-workflow) (1.2.0)\n",
            "Requirement already satisfied: fsspec>=2023.5.0 in /usr/local/lib/python3.11/dist-packages (from llama-index-core<0.13.0,>=0.12.0->llama-index-utils-workflow) (2024.10.0)\n",
            "Requirement already satisfied: httpx in /usr/local/lib/python3.11/dist-packages (from llama-index-core<0.13.0,>=0.12.0->llama-index-utils-workflow) (0.28.1)\n",
            "Requirement already satisfied: nest-asyncio<2.0.0,>=1.5.8 in /usr/local/lib/python3.11/dist-packages (from llama-index-core<0.13.0,>=0.12.0->llama-index-utils-workflow) (1.6.0)\n",
            "Requirement already satisfied: networkx>=3.0 in /usr/local/lib/python3.11/dist-packages (from llama-index-core<0.13.0,>=0.12.0->llama-index-utils-workflow) (3.4.2)\n",
            "Requirement already satisfied: nltk>3.8.1 in /usr/local/lib/python3.11/dist-packages (from llama-index-core<0.13.0,>=0.12.0->llama-index-utils-workflow) (3.9.1)\n",
            "Requirement already satisfied: numpy in /usr/local/lib/python3.11/dist-packages (from llama-index-core<0.13.0,>=0.12.0->llama-index-utils-workflow) (1.26.4)\n",
            "Requirement already satisfied: pillow>=9.0.0 in /usr/local/lib/python3.11/dist-packages (from llama-index-core<0.13.0,>=0.12.0->llama-index-utils-workflow) (11.1.0)\n",
            "Requirement already satisfied: pydantic>=2.8.0 in /usr/local/lib/python3.11/dist-packages (from llama-index-core<0.13.0,>=0.12.0->llama-index-utils-workflow) (2.10.6)\n",
            "Requirement already satisfied: requests>=2.31.0 in /usr/local/lib/python3.11/dist-packages (from llama-index-core<0.13.0,>=0.12.0->llama-index-utils-workflow) (2.32.3)\n",
            "Requirement already satisfied: tenacity!=8.4.0,<10.0.0,>=8.2.0 in /usr/local/lib/python3.11/dist-packages (from llama-index-core<0.13.0,>=0.12.0->llama-index-utils-workflow) (9.0.0)\n",
            "Requirement already satisfied: tiktoken>=0.3.3 in /usr/local/lib/python3.11/dist-packages (from llama-index-core<0.13.0,>=0.12.0->llama-index-utils-workflow) (0.8.0)\n",
            "Requirement already satisfied: tqdm<5.0.0,>=4.66.1 in /usr/local/lib/python3.11/dist-packages (from llama-index-core<0.13.0,>=0.12.0->llama-index-utils-workflow) (4.67.1)\n",
            "Requirement already satisfied: typing-extensions>=4.5.0 in /usr/local/lib/python3.11/dist-packages (from llama-index-core<0.13.0,>=0.12.0->llama-index-utils-workflow) (4.12.2)\n",
            "Requirement already satisfied: typing-inspect>=0.8.0 in /usr/local/lib/python3.11/dist-packages (from llama-index-core<0.13.0,>=0.12.0->llama-index-utils-workflow) (0.9.0)\n",
            "Requirement already satisfied: wrapt in /usr/local/lib/python3.11/dist-packages (from llama-index-core<0.13.0,>=0.12.0->llama-index-utils-workflow) (1.17.2)\n",
            "Requirement already satisfied: ipython>=5.3.0 in /usr/local/lib/python3.11/dist-packages (from pyvis<0.4.0,>=0.3.2->llama-index-utils-workflow) (7.34.0)\n",
            "Requirement already satisfied: jinja2>=2.9.6 in /usr/local/lib/python3.11/dist-packages (from pyvis<0.4.0,>=0.3.2->llama-index-utils-workflow) (3.1.5)\n",
            "Requirement already satisfied: jsonpickle>=1.4.1 in /usr/local/lib/python3.11/dist-packages (from pyvis<0.4.0,>=0.3.2->llama-index-utils-workflow) (4.0.1)\n",
            "Requirement already satisfied: aiohappyeyeballs>=2.3.0 in /usr/local/lib/python3.11/dist-packages (from aiohttp<4.0.0,>=3.8.6->llama-index-core<0.13.0,>=0.12.0->llama-index-utils-workflow) (2.4.4)\n",
            "Requirement already satisfied: aiosignal>=1.1.2 in /usr/local/lib/python3.11/dist-packages (from aiohttp<4.0.0,>=3.8.6->llama-index-core<0.13.0,>=0.12.0->llama-index-utils-workflow) (1.3.2)\n",
            "Requirement already satisfied: attrs>=17.3.0 in /usr/local/lib/python3.11/dist-packages (from aiohttp<4.0.0,>=3.8.6->llama-index-core<0.13.0,>=0.12.0->llama-index-utils-workflow) (25.1.0)\n",
            "Requirement already satisfied: frozenlist>=1.1.1 in /usr/local/lib/python3.11/dist-packages (from aiohttp<4.0.0,>=3.8.6->llama-index-core<0.13.0,>=0.12.0->llama-index-utils-workflow) (1.5.0)\n",
            "Requirement already satisfied: multidict<7.0,>=4.5 in /usr/local/lib/python3.11/dist-packages (from aiohttp<4.0.0,>=3.8.6->llama-index-core<0.13.0,>=0.12.0->llama-index-utils-workflow) (6.1.0)\n",
            "Requirement already satisfied: propcache>=0.2.0 in /usr/local/lib/python3.11/dist-packages (from aiohttp<4.0.0,>=3.8.6->llama-index-core<0.13.0,>=0.12.0->llama-index-utils-workflow) (0.2.1)\n",
            "Requirement already satisfied: yarl<2.0,>=1.17.0 in /usr/local/lib/python3.11/dist-packages (from aiohttp<4.0.0,>=3.8.6->llama-index-core<0.13.0,>=0.12.0->llama-index-utils-workflow) (1.18.3)\n",
            "Requirement already satisfied: setuptools>=18.5 in /usr/local/lib/python3.11/dist-packages (from ipython>=5.3.0->pyvis<0.4.0,>=0.3.2->llama-index-utils-workflow) (75.1.0)\n",
            "Collecting jedi>=0.16 (from ipython>=5.3.0->pyvis<0.4.0,>=0.3.2->llama-index-utils-workflow)\n",
            "  Downloading jedi-0.19.2-py2.py3-none-any.whl.metadata (22 kB)\n",
            "Requirement already satisfied: decorator in /usr/local/lib/python3.11/dist-packages (from ipython>=5.3.0->pyvis<0.4.0,>=0.3.2->llama-index-utils-workflow) (4.4.2)\n",
            "Requirement already satisfied: pickleshare in /usr/local/lib/python3.11/dist-packages (from ipython>=5.3.0->pyvis<0.4.0,>=0.3.2->llama-index-utils-workflow) (0.7.5)\n",
            "Requirement already satisfied: traitlets>=4.2 in /usr/local/lib/python3.11/dist-packages (from ipython>=5.3.0->pyvis<0.4.0,>=0.3.2->llama-index-utils-workflow) (5.7.1)\n",
            "Requirement already satisfied: prompt-toolkit!=3.0.0,!=3.0.1,<3.1.0,>=2.0.0 in /usr/local/lib/python3.11/dist-packages (from ipython>=5.3.0->pyvis<0.4.0,>=0.3.2->llama-index-utils-workflow) (3.0.50)\n",
            "Requirement already satisfied: pygments in /usr/local/lib/python3.11/dist-packages (from ipython>=5.3.0->pyvis<0.4.0,>=0.3.2->llama-index-utils-workflow) (2.18.0)\n",
            "Requirement already satisfied: backcall in /usr/local/lib/python3.11/dist-packages (from ipython>=5.3.0->pyvis<0.4.0,>=0.3.2->llama-index-utils-workflow) (0.2.0)\n",
            "Requirement already satisfied: matplotlib-inline in /usr/local/lib/python3.11/dist-packages (from ipython>=5.3.0->pyvis<0.4.0,>=0.3.2->llama-index-utils-workflow) (0.1.7)\n",
            "Requirement already satisfied: pexpect>4.3 in /usr/local/lib/python3.11/dist-packages (from ipython>=5.3.0->pyvis<0.4.0,>=0.3.2->llama-index-utils-workflow) (4.9.0)\n",
            "Requirement already satisfied: MarkupSafe>=2.0 in /usr/local/lib/python3.11/dist-packages (from jinja2>=2.9.6->pyvis<0.4.0,>=0.3.2->llama-index-utils-workflow) (3.0.2)\n",
            "Requirement already satisfied: click in /usr/local/lib/python3.11/dist-packages (from nltk>3.8.1->llama-index-core<0.13.0,>=0.12.0->llama-index-utils-workflow) (8.1.8)\n",
            "Requirement already satisfied: joblib in /usr/local/lib/python3.11/dist-packages (from nltk>3.8.1->llama-index-core<0.13.0,>=0.12.0->llama-index-utils-workflow) (1.4.2)\n",
            "Requirement already satisfied: regex>=2021.8.3 in /usr/local/lib/python3.11/dist-packages (from nltk>3.8.1->llama-index-core<0.13.0,>=0.12.0->llama-index-utils-workflow) (2024.11.6)\n",
            "Requirement already satisfied: annotated-types>=0.6.0 in /usr/local/lib/python3.11/dist-packages (from pydantic>=2.8.0->llama-index-core<0.13.0,>=0.12.0->llama-index-utils-workflow) (0.7.0)\n",
            "Requirement already satisfied: pydantic-core==2.27.2 in /usr/local/lib/python3.11/dist-packages (from pydantic>=2.8.0->llama-index-core<0.13.0,>=0.12.0->llama-index-utils-workflow) (2.27.2)\n",
            "Requirement already satisfied: charset-normalizer<4,>=2 in /usr/local/lib/python3.11/dist-packages (from requests>=2.31.0->llama-index-core<0.13.0,>=0.12.0->llama-index-utils-workflow) (3.4.1)\n",
            "Requirement already satisfied: idna<4,>=2.5 in /usr/local/lib/python3.11/dist-packages (from requests>=2.31.0->llama-index-core<0.13.0,>=0.12.0->llama-index-utils-workflow) (3.10)\n",
            "Requirement already satisfied: urllib3<3,>=1.21.1 in /usr/local/lib/python3.11/dist-packages (from requests>=2.31.0->llama-index-core<0.13.0,>=0.12.0->llama-index-utils-workflow) (2.3.0)\n",
            "Requirement already satisfied: certifi>=2017.4.17 in /usr/local/lib/python3.11/dist-packages (from requests>=2.31.0->llama-index-core<0.13.0,>=0.12.0->llama-index-utils-workflow) (2024.12.14)\n",
            "Requirement already satisfied: greenlet!=0.4.17 in /usr/local/lib/python3.11/dist-packages (from SQLAlchemy>=1.4.49->SQLAlchemy[asyncio]>=1.4.49->llama-index-core<0.13.0,>=0.12.0->llama-index-utils-workflow) (3.1.1)\n",
            "Requirement already satisfied: mypy-extensions>=0.3.0 in /usr/local/lib/python3.11/dist-packages (from typing-inspect>=0.8.0->llama-index-core<0.13.0,>=0.12.0->llama-index-utils-workflow) (1.0.0)\n",
            "Requirement already satisfied: marshmallow<4.0.0,>=3.18.0 in /usr/local/lib/python3.11/dist-packages (from dataclasses-json->llama-index-core<0.13.0,>=0.12.0->llama-index-utils-workflow) (3.26.0)\n",
            "Requirement already satisfied: anyio in /usr/local/lib/python3.11/dist-packages (from httpx->llama-index-core<0.13.0,>=0.12.0->llama-index-utils-workflow) (3.7.1)\n",
            "Requirement already satisfied: httpcore==1.* in /usr/local/lib/python3.11/dist-packages (from httpx->llama-index-core<0.13.0,>=0.12.0->llama-index-utils-workflow) (1.0.7)\n",
            "Requirement already satisfied: h11<0.15,>=0.13 in /usr/local/lib/python3.11/dist-packages (from httpcore==1.*->httpx->llama-index-core<0.13.0,>=0.12.0->llama-index-utils-workflow) (0.14.0)\n",
            "Requirement already satisfied: parso<0.9.0,>=0.8.4 in /usr/local/lib/python3.11/dist-packages (from jedi>=0.16->ipython>=5.3.0->pyvis<0.4.0,>=0.3.2->llama-index-utils-workflow) (0.8.4)\n",
            "Requirement already satisfied: packaging>=17.0 in /usr/local/lib/python3.11/dist-packages (from marshmallow<4.0.0,>=3.18.0->dataclasses-json->llama-index-core<0.13.0,>=0.12.0->llama-index-utils-workflow) (24.2)\n",
            "Requirement already satisfied: ptyprocess>=0.5 in /usr/local/lib/python3.11/dist-packages (from pexpect>4.3->ipython>=5.3.0->pyvis<0.4.0,>=0.3.2->llama-index-utils-workflow) (0.7.0)\n",
            "Requirement already satisfied: wcwidth in /usr/local/lib/python3.11/dist-packages (from prompt-toolkit!=3.0.0,!=3.0.1,<3.1.0,>=2.0.0->ipython>=5.3.0->pyvis<0.4.0,>=0.3.2->llama-index-utils-workflow) (0.2.13)\n",
            "Requirement already satisfied: sniffio>=1.1 in /usr/local/lib/python3.11/dist-packages (from anyio->httpx->llama-index-core<0.13.0,>=0.12.0->llama-index-utils-workflow) (1.3.1)\n",
            "Downloading llama_index_utils_workflow-0.3.0-py3-none-any.whl (2.8 kB)\n",
            "Downloading pyvis-0.3.2-py3-none-any.whl (756 kB)\n",
            "\u001b[2K   \u001b[90m━━━━━━━━━━━━━━━━━━━━━━━━━━━━━━━━━━━━━━━━\u001b[0m \u001b[32m756.0/756.0 kB\u001b[0m \u001b[31m11.7 MB/s\u001b[0m eta \u001b[36m0:00:00\u001b[0m\n",
            "\u001b[?25hDownloading jedi-0.19.2-py2.py3-none-any.whl (1.6 MB)\n",
            "\u001b[2K   \u001b[90m━━━━━━━━━━━━━━━━━━━━━━━━━━━━━━━━━━━━━━━━\u001b[0m \u001b[32m1.6/1.6 MB\u001b[0m \u001b[31m49.6 MB/s\u001b[0m eta \u001b[36m0:00:00\u001b[0m\n",
            "\u001b[?25hInstalling collected packages: jedi, pyvis, llama-index-utils-workflow\n",
            "Successfully installed jedi-0.19.2 llama-index-utils-workflow-0.3.0 pyvis-0.3.2\n"
          ]
        }
      ]
    },
    {
      "cell_type": "markdown",
      "source": [
        "Let's visualize the simple workflow we just created:"
      ],
      "metadata": {
        "id": "vyMSD0G6ptOY"
      }
    },
    {
      "cell_type": "code",
      "source": [
        "from llama_index.utils.workflow import draw_all_possible_flows\n",
        "\n",
        "draw_all_possible_flows(MyWorkflow, filename=\"basic_workflow.html\")"
      ],
      "metadata": {
        "colab": {
          "base_uri": "https://localhost:8080/"
        },
        "collapsed": true,
        "id": "W4wGN8gwpwwu",
        "outputId": "e9756ce6-5b49-4f87-d2c9-250bfb0e915f"
      },
      "execution_count": null,
      "outputs": [
        {
          "output_type": "stream",
          "name": "stdout",
          "text": [
            "<class 'NoneType'>\n",
            "<class 'llama_index.core.workflow.events.StopEvent'>\n",
            "basic_workflow.html\n"
          ]
        }
      ]
    },
    {
      "cell_type": "markdown",
      "source": [
        "This creates a file called `basic_workflow.html` in the notebook's file system. You can open up the file pane and download the file, then open it in your browser. You'll see something like this:"
      ],
      "metadata": {
        "id": "UMOGId0Vqrk7"
      }
    },
    {
      "cell_type": "markdown",
      "source": [
        "<img width=\"500\" src=\"https://seldo.com/uploads/2025/basic_flow.png\">"
      ],
      "metadata": {
        "id": "sz2rpD0Rq2H9"
      }
    },
    {
      "cell_type": "markdown",
      "source": [
        "Of course, a flow with a single step is not very useful! Let's define a multi-step workflow."
      ],
      "metadata": {
        "id": "u8eNxpb6rFcX"
      }
    },
    {
      "cell_type": "markdown",
      "source": [
        "## Custom Events\n",
        "\n",
        "Multiple steps are created by defining custom events that can be emitted by steps and trigger other steps. Let's define a simple 3-step workflow by defining two custom events, `FirstEvent` and `SecondEvent`. These classes can have any names and properties, but must inherit from `Event`:\n"
      ],
      "metadata": {
        "id": "-oc0OGSPrPBG"
      }
    },
    {
      "cell_type": "code",
      "source": [
        "from llama_index.core.workflow import Event\n",
        "\n",
        "class FirstEvent(Event):\n",
        "    first_output: str\n",
        "\n",
        "class SecondEvent(Event):\n",
        "    second_output: str"
      ],
      "metadata": {
        "id": "-1htaG19rUMs"
      },
      "execution_count": null,
      "outputs": []
    },
    {
      "cell_type": "markdown",
      "source": [
        "## Defining the workflow\n",
        "\n",
        "Now we define the workflow itself. We do this by defining the input and output types on each step.\n",
        "\n",
        "* `step_one` takes a `StartEvent` and returns a `FirstEvent`\n",
        "* `step_two` takes a `FirstEvent` and returns a `SecondEvent`\n",
        "* `step_three` takes a `SecondEvent` and returns a `StopEvent`"
      ],
      "metadata": {
        "id": "N5e9cM7JrmgE"
      }
    },
    {
      "cell_type": "code",
      "source": [
        "class MyWorkflow(Workflow):\n",
        "    @step\n",
        "    async def step_one(self, ev: StartEvent) -> FirstEvent:\n",
        "        print(ev.first_input)\n",
        "        return FirstEvent(first_output=\"First step complete.\")\n",
        "\n",
        "    @step\n",
        "    async def step_two(self, ev: FirstEvent) -> SecondEvent:\n",
        "        print(ev.first_output)\n",
        "        return SecondEvent(second_output=\"Second step complete.\")\n",
        "\n",
        "    @step\n",
        "    async def step_three(self, ev: SecondEvent) -> StopEvent:\n",
        "        print(ev.second_output)\n",
        "        return StopEvent(result=\"Workflow complete.\")\n",
        "\n",
        "\n",
        "w = MyWorkflow(timeout=10, verbose=False)\n",
        "result = await w.run(first_input=\"Start the workflow.\")\n",
        "print(result)"
      ],
      "metadata": {
        "colab": {
          "base_uri": "https://localhost:8080/"
        },
        "id": "qFXi7VfArpQQ",
        "outputId": "3f69288b-3ac9-4c53-f07d-cb6209719b14"
      },
      "execution_count": null,
      "outputs": [
        {
          "output_type": "stream",
          "name": "stdout",
          "text": [
            "Start the workflow.\n",
            "First step complete.\n",
            "Second step complete.\n",
            "Workflow complete.\n"
          ]
        }
      ]
    },
    {
      "cell_type": "markdown",
      "source": [
        "If we run this through the visualizer, we'll get something like this:\n",
        "\n",
        "<img width=\"500\" src=\"https://seldo.com/uploads/2025/multi_step.png\">"
      ],
      "metadata": {
        "id": "Olt56qZ6shXN"
      }
    },
    {
      "cell_type": "markdown",
      "source": [
        "# Branches and loops\n",
        "\n",
        "However, there's not much point to a workflow if it just runs straight through! A key feature of Workflows is their enablement of branching and looping logic, more simply and flexibly than graph-based approaches. To enable looping, we'll create a new `LoopEvent`"
      ],
      "metadata": {
        "id": "JdGptrFTsyBt"
      }
    },
    {
      "cell_type": "code",
      "source": [
        "class LoopEvent(Event):\n",
        "    loop_output: str"
      ],
      "metadata": {
        "id": "qBQsGdmls_S3"
      },
      "execution_count": null,
      "outputs": []
    },
    {
      "cell_type": "markdown",
      "source": [
        "Now we'll edit our `step_one` to make a random decision about whether to execute serially or loop back:"
      ],
      "metadata": {
        "id": "AMuN-XnFtEMY"
      }
    },
    {
      "cell_type": "code",
      "source": [
        "import random\n",
        "\n",
        "class MyWorkflow(Workflow):\n",
        "\n",
        "    @step\n",
        "    async def step_one(self, ev: StartEvent | LoopEvent) -> FirstEvent | LoopEvent:\n",
        "        if random.randint(0, 1) == 0:\n",
        "            print(\"Bad thing happened\")\n",
        "            return LoopEvent(loop_output=\"Back to step one.\")\n",
        "        else:\n",
        "            print(\"Good thing happened\")\n",
        "            return FirstEvent(first_output=\"First step complete.\")\n",
        "\n",
        "    @step\n",
        "    async def step_two(self, ev: FirstEvent) -> SecondEvent:\n",
        "        print(ev.first_output)\n",
        "        return SecondEvent(second_output=\"Second step complete.\")\n",
        "\n",
        "    @step\n",
        "    async def step_three(self, ev: SecondEvent) -> StopEvent:\n",
        "        print(ev.second_output)\n",
        "        return StopEvent(result=\"Workflow complete.\")\n",
        "\n",
        "\n",
        "w = MyWorkflow(timeout=10, verbose=False)\n",
        "result = await w.run(first_input=\"Start the workflow.\")\n",
        "print(result)"
      ],
      "metadata": {
        "colab": {
          "base_uri": "https://localhost:8080/"
        },
        "id": "azvvRewntJ40",
        "outputId": "6db24dd3-3eb9-427f-ce05-639f633e28bb"
      },
      "execution_count": null,
      "outputs": [
        {
          "output_type": "stream",
          "name": "stdout",
          "text": [
            "Bad thing happened\n",
            "Bad thing happened\n",
            "Good thing happened\n",
            "First step complete.\n",
            "Second step complete.\n",
            "Workflow complete.\n"
          ]
        }
      ]
    },
    {
      "cell_type": "markdown",
      "source": [
        "Note the new type annotations on `step_one`: we now accept either a `StartEvent` or a `LoopEvent` to trigger the step, and we also emit either a `FirstEvent` or a `LoopEvent`.\n",
        "\n",
        "Our new, looping workflow visualizes like this:"
      ],
      "metadata": {
        "id": "erF6mq780tKI"
      }
    },
    {
      "cell_type": "markdown",
      "source": [
        "<img width=\"500\" src=\"https://seldo.com/uploads/2025/loop.png\">"
      ],
      "metadata": {
        "id": "2KPKGiqC0NVP"
      }
    },
    {
      "cell_type": "markdown",
      "source": [
        "## Branching\n",
        "\n",
        "The same constructs that allow us to loop allow us to create branches. Here's a workflow that executes two different branches depending on an early decision:"
      ],
      "metadata": {
        "id": "hWqX10_zTewZ"
      }
    },
    {
      "cell_type": "code",
      "source": [
        "class BranchA1Event(Event):\n",
        "    payload: str\n",
        "\n",
        "\n",
        "class BranchA2Event(Event):\n",
        "    payload: str\n",
        "\n",
        "\n",
        "class BranchB1Event(Event):\n",
        "    payload: str\n",
        "\n",
        "\n",
        "class BranchB2Event(Event):\n",
        "    payload: str\n",
        "\n",
        "\n",
        "class BranchWorkflow(Workflow):\n",
        "    @step\n",
        "    async def start(self, ev: StartEvent) -> BranchA1Event | BranchB1Event:\n",
        "        if random.randint(0, 1) == 0:\n",
        "            print(\"Go to branch A\")\n",
        "            return BranchA1Event(payload=\"Branch A\")\n",
        "        else:\n",
        "            print(\"Go to branch B\")\n",
        "            return BranchB1Event(payload=\"Branch B\")\n",
        "\n",
        "    @step\n",
        "    async def step_a1(self, ev: BranchA1Event) -> BranchA2Event:\n",
        "        print(ev.payload)\n",
        "        return BranchA2Event(payload=ev.payload)\n",
        "\n",
        "    @step\n",
        "    async def step_b1(self, ev: BranchB1Event) -> BranchB2Event:\n",
        "        print(ev.payload)\n",
        "        return BranchB2Event(payload=ev.payload)\n",
        "\n",
        "    @step\n",
        "    async def step_a2(self, ev: BranchA2Event) -> StopEvent:\n",
        "        print(ev.payload)\n",
        "        return StopEvent(result=\"Branch A complete.\")\n",
        "\n",
        "    @step\n",
        "    async def step_b2(self, ev: BranchB2Event) -> StopEvent:\n",
        "        print(ev.payload)\n",
        "        return StopEvent(result=\"Branch B complete.\")"
      ],
      "metadata": {
        "id": "DF5-IyrlTrV1"
      },
      "execution_count": null,
      "outputs": []
    },
    {
      "cell_type": "markdown",
      "source": [
        "It visualizes like this:"
      ],
      "metadata": {
        "id": "xePaVRapTtk1"
      }
    },
    {
      "cell_type": "markdown",
      "source": [
        "<img width=\"700\" src=\"https://seldo.com/uploads/2025/branching.png\">"
      ],
      "metadata": {
        "id": "MJSTw10lTxHd"
      }
    },
    {
      "cell_type": "markdown",
      "source": [
        "## Concurrent execution\n",
        "\n",
        "The final form of flow control you can implement in workflows is concurrent execution. This allows you to efficiently run long-running tasks in parallel, and gather them together when they are needed. This can also let you perform map-reduce style tasks. Let's see how this is done."
      ],
      "metadata": {
        "id": "SQjp_nLJVXUK"
      }
    },
    {
      "cell_type": "markdown",
      "source": [
        "To do this, we'll be using the `Context` object that we already encountered when working with `AgentWorkflow`. The `Context` is available to every step in a workflow: to access it, declare it as an argument to your step and it will be automatically populated.\n",
        "\n",
        "In this example, we use a new method, `Context.send_event` rather than returning an event. This allows us to emit multiple events in parallel rather than picking just one as previously."
      ],
      "metadata": {
        "id": "DRNmuEiHXwB6"
      }
    },
    {
      "cell_type": "code",
      "source": [
        "import asyncio\n",
        "\n",
        "class StepTwoEvent(Event):\n",
        "    query: str\n",
        "\n",
        "class ParallelFlow(Workflow):\n",
        "    @step\n",
        "    async def start(self, ctx: Context, ev: StartEvent) -> StepTwoEvent:\n",
        "        ctx.send_event(StepTwoEvent(query=\"Query 1\"))\n",
        "        ctx.send_event(StepTwoEvent(query=\"Query 2\"))\n",
        "        ctx.send_event(StepTwoEvent(query=\"Query 3\"))\n",
        "\n",
        "    @step(num_workers=4)\n",
        "    async def step_two(self, ctx: Context, ev: StepTwoEvent) -> StopEvent:\n",
        "        print(\"Running slow query \", ev.query)\n",
        "        await asyncio.sleep(random.randint(1, 5))\n",
        "\n",
        "        return StopEvent(result=ev.query)"
      ],
      "metadata": {
        "id": "shy7HdqWVwb6"
      },
      "execution_count": null,
      "outputs": []
    },
    {
      "cell_type": "code",
      "source": [
        "w = ParallelFlow(timeout=10, verbose=False)\n",
        "result = await w.run(message=\"Start the workflow.\")\n",
        "print(result)"
      ],
      "metadata": {
        "colab": {
          "base_uri": "https://localhost:8080/"
        },
        "id": "vI2GTegXXRCm",
        "outputId": "def93e3c-1c1e-4c5f-cbb0-2f875ee3af37"
      },
      "execution_count": null,
      "outputs": [
        {
          "output_type": "stream",
          "name": "stdout",
          "text": [
            "Running slow query  Query 1\n",
            "Running slow query  Query 2\n",
            "Running slow query  Query 3\n",
            "Query 2\n"
          ]
        }
      ]
    },
    {
      "cell_type": "markdown",
      "source": [
        "As you can see, it executes all 3 queries. The first one to complete emits a StopEvent, at which point the workflow halts without waiting for the other 2 events.\n",
        "\n",
        "## Collecting events\n",
        "\n",
        "But what if we do want the output of all 3 events? Another method, `Context.collect_events`, exists for that purpose:"
      ],
      "metadata": {
        "id": "pZIvbbNGX6Gr"
      }
    },
    {
      "cell_type": "code",
      "source": [
        "class StepThreeEvent(Event):\n",
        "    result: str\n",
        "\n",
        "class ConcurrentFlow(Workflow):\n",
        "    @step\n",
        "    async def start(self, ctx: Context, ev: StartEvent) -> StepTwoEvent:\n",
        "        ctx.send_event(StepTwoEvent(query=\"Query 1\"))\n",
        "        ctx.send_event(StepTwoEvent(query=\"Query 2\"))\n",
        "        ctx.send_event(StepTwoEvent(query=\"Query 3\"))\n",
        "\n",
        "    @step(num_workers=4)\n",
        "    async def step_two(self, ctx: Context, ev: StepTwoEvent) -> StepThreeEvent:\n",
        "        print(\"Running query \", ev.query)\n",
        "        await asyncio.sleep(random.randint(1, 5))\n",
        "        return StepThreeEvent(result=ev.query)\n",
        "\n",
        "    @step\n",
        "    async def step_three(self, ctx: Context, ev: StepThreeEvent) -> StopEvent:\n",
        "        # wait until we receive 3 events\n",
        "        result = ctx.collect_events(ev, [StepThreeEvent] * 3)\n",
        "        if result is None:\n",
        "            print(\"Not all events received yet.\")\n",
        "            return None\n",
        "\n",
        "        # do something with all 3 results together\n",
        "        print(result)\n",
        "        return StopEvent(result=\"Done\")"
      ],
      "metadata": {
        "id": "31jPpE3ZYcMr"
      },
      "execution_count": null,
      "outputs": []
    },
    {
      "cell_type": "code",
      "source": [
        "w = ConcurrentFlow(timeout=10, verbose=False)\n",
        "result = await w.run(message=\"Start the workflow.\")\n",
        "print(result)"
      ],
      "metadata": {
        "colab": {
          "base_uri": "https://localhost:8080/"
        },
        "id": "NS_TmHrsYkT6",
        "outputId": "0abb517f-c5b4-470c-92da-ab4bef4148fb"
      },
      "execution_count": null,
      "outputs": [
        {
          "output_type": "stream",
          "name": "stdout",
          "text": [
            "Running query  Query 1\n",
            "Running query  Query 2\n",
            "Running query  Query 3\n",
            "Not all events received yet.\n",
            "Not all events received yet.\n",
            "[StepThreeEvent(result='Query 1'), StepThreeEvent(result='Query 2'), StepThreeEvent(result='Query 3')]\n",
            "Done\n"
          ]
        }
      ]
    },
    {
      "cell_type": "markdown",
      "source": [
        "In the above example, we emit three `StepTwoEvent`s which trigger `step_two`, each execution of which eventually emits a `StepThreeEvent`.\n",
        "\n",
        "`step_three` gets triggered whenever a `StepThreeEvent` fires. What `collect_events` does is store the events in the context until it has collected the number and type of events specified in its second argument. In this case, we've told it to wait for 3 events.\n",
        "\n",
        "If an event fires and `collect_events` hasn't yet seen the right number of events, it returns `None`, so we tell `step_three` to do nothing in that case. When `collect_events` receives the right number of events it returns them as an array, which you can see us printing in the final output.\n",
        "\n",
        "To implement a map-reduce pattern, you would split your task up into as many steps as necessary, and use `Context` to store that number with `ctx.set(\"num_events\", some_number)`. Then in `step_three` you would wait for the number stored in the context using `await ctx.get(\"num_events\")`. So you don't need to know in advance exactly how many concurrent steps you're taking."
      ],
      "metadata": {
        "id": "-twFHecxYrYD"
      }
    },
    {
      "cell_type": "markdown",
      "source": [
        "## Collecting different event types\n",
        "\n",
        "We don't just have to wait for multiple events of the same kind. In this example, we'll emit 3 totally different events and collect them at the end."
      ],
      "metadata": {
        "id": "8_pBezDRbLo_"
      }
    },
    {
      "cell_type": "code",
      "source": [
        "class StepAEvent(Event):\n",
        "    query: str\n",
        "\n",
        "class StepACompleteEvent(Event):\n",
        "    result: str\n",
        "\n",
        "class StepBEvent(Event):\n",
        "    query: str\n",
        "\n",
        "class StepBCompleteEvent(Event):\n",
        "    result: str\n",
        "\n",
        "class StepCEvent(Event):\n",
        "    query: str\n",
        "\n",
        "class StepCCompleteEvent(Event):\n",
        "    result: str\n",
        "\n",
        "class ConcurrentFlow(Workflow):\n",
        "    @step\n",
        "    async def start(\n",
        "        self, ctx: Context, ev: StartEvent\n",
        "    ) -> StepAEvent | StepBEvent | StepCEvent:\n",
        "        ctx.send_event(StepAEvent(query=\"Query 1\"))\n",
        "        ctx.send_event(StepBEvent(query=\"Query 2\"))\n",
        "        ctx.send_event(StepCEvent(query=\"Query 3\"))\n",
        "\n",
        "    @step\n",
        "    async def step_a(self, ctx: Context, ev: StepAEvent) -> StepACompleteEvent:\n",
        "        print(\"Doing something A-ish\")\n",
        "        return StepACompleteEvent(result=ev.query)\n",
        "\n",
        "    @step\n",
        "    async def step_b(self, ctx: Context, ev: StepBEvent) -> StepBCompleteEvent:\n",
        "        print(\"Doing something B-ish\")\n",
        "        return StepBCompleteEvent(result=ev.query)\n",
        "\n",
        "    @step\n",
        "    async def step_c(self, ctx: Context, ev: StepCEvent) -> StepCCompleteEvent:\n",
        "        print(\"Doing something C-ish\")\n",
        "        return StepCCompleteEvent(result=ev.query)\n",
        "\n",
        "    @step\n",
        "    async def step_three(\n",
        "        self,\n",
        "        ctx: Context,\n",
        "        ev: StepACompleteEvent | StepBCompleteEvent | StepCCompleteEvent,\n",
        "    ) -> StopEvent:\n",
        "        print(\"Received event \", ev.result)\n",
        "\n",
        "        # wait until we receive 3 events\n",
        "        events = ctx.collect_events(\n",
        "            ev,\n",
        "            [StepCCompleteEvent, StepACompleteEvent, StepBCompleteEvent],\n",
        "        )\n",
        "        if (events is None):\n",
        "            return None\n",
        "\n",
        "        # do something with all 3 results together\n",
        "        print(\"All events received: \", events)\n",
        "        return StopEvent(result=\"Done\")"
      ],
      "metadata": {
        "id": "49PgTaPdbWWq"
      },
      "execution_count": null,
      "outputs": []
    },
    {
      "cell_type": "markdown",
      "source": [
        "When we run, it will do all three things and wait for them in `step_three`."
      ],
      "metadata": {
        "id": "U5PRkhhcb2eA"
      }
    },
    {
      "cell_type": "code",
      "source": [
        "w = ConcurrentFlow(timeout=10, verbose=False)\n",
        "result = await w.run(message=\"Start the workflow.\")\n",
        "print(result)"
      ],
      "metadata": {
        "colab": {
          "base_uri": "https://localhost:8080/"
        },
        "id": "szxEmaaZbpE3",
        "outputId": "52b20eb2-cf50-4d75-eee8-69ab72fa8371"
      },
      "execution_count": null,
      "outputs": [
        {
          "output_type": "stream",
          "name": "stdout",
          "text": [
            "Doing something A-ish\n",
            "Doing something B-ish\n",
            "Doing something C-ish\n",
            "Received event  Query 1\n",
            "Received event  Query 2\n",
            "Received event  Query 3\n",
            "All events received:  [StepCCompleteEvent(result='Query 3'), StepACompleteEvent(result='Query 1'), StepBCompleteEvent(result='Query 2')]\n",
            "Done\n"
          ]
        }
      ]
    },
    {
      "cell_type": "markdown",
      "source": [
        "Note that the order of the events is significant: `collect_events` was told to expect Step C, then A, then B, and that's the order they are in the return array."
      ],
      "metadata": {
        "id": "MBCY2z5Tb0WA"
      }
    },
    {
      "cell_type": "markdown",
      "source": [
        "These changes have a pretty pleasing visualization:"
      ],
      "metadata": {
        "id": "BIfqQPhlb8uL"
      }
    },
    {
      "cell_type": "markdown",
      "source": [
        "<img width=\"700\" src=\"https://seldo.com/uploads/2025/different_events.png\">"
      ],
      "metadata": {
        "id": "C3ZOoB79cD6B"
      }
    },
    {
      "cell_type": "markdown",
      "source": [
        "## Streaming\n",
        "\n",
        "We already saw `AgentWorkflow` emit a stream of events that we could handle and filter when we run the event. Let's see how those get emitted in this example, using `Context.write_event_to_stream`:"
      ],
      "metadata": {
        "id": "fVEy_h3_dn0E"
      }
    },
    {
      "cell_type": "code",
      "source": [
        "class FirstEvent(Event):\n",
        "    first_output: str\n",
        "\n",
        "class SecondEvent(Event):\n",
        "    second_output: str\n",
        "    response: str\n",
        "\n",
        "class TextEvent(Event):\n",
        "    delta: str\n",
        "\n",
        "class ProgressEvent(Event):\n",
        "    msg: str\n",
        "\n",
        "class MyWorkflow(Workflow):\n",
        "    @step\n",
        "    async def step_one(self, ctx: Context, ev: StartEvent) -> FirstEvent:\n",
        "        ctx.write_event_to_stream(ProgressEvent(msg=\"Step one is happening\"))\n",
        "        return FirstEvent(first_output=\"First step complete.\")\n",
        "\n",
        "    @step\n",
        "    async def step_two(self, ctx: Context, ev: FirstEvent) -> SecondEvent:\n",
        "        llm = OpenAI(model=\"gpt-4o-mini\", api_key=api_key) # the OpenAI key we set up at the beginning\n",
        "        generator = await llm.astream_complete(\n",
        "            \"Please give me the first 50 words of Moby Dick, a book in the public domain.\"\n",
        "        )\n",
        "        async for response in generator:\n",
        "            # Allow the workflow to stream this piece of response\n",
        "            ctx.write_event_to_stream(TextEvent(delta=response.delta))\n",
        "        return SecondEvent(\n",
        "            second_output=\"Second step complete, full response attached\",\n",
        "            response=str(response),\n",
        "        )\n",
        "\n",
        "    @step\n",
        "    async def step_three(self, ctx: Context, ev: SecondEvent) -> StopEvent:\n",
        "        ctx.write_event_to_stream(ProgressEvent(msg=\"Step three is happening\"))\n",
        "        return StopEvent(result=\"Workflow complete.\")"
      ],
      "metadata": {
        "id": "vb4H-W2pdy8E"
      },
      "execution_count": null,
      "outputs": []
    },
    {
      "cell_type": "markdown",
      "source": [
        "We handle this output exactly the same way we did for `AgentWorkflow`:"
      ],
      "metadata": {
        "id": "hivrZ9s5fWn-"
      }
    },
    {
      "cell_type": "code",
      "source": [
        "workflow = MyWorkflow(timeout=30, verbose=False)\n",
        "handler = workflow.run(first_input=\"Start the workflow.\")\n",
        "\n",
        "async for ev in handler.stream_events():\n",
        "    if isinstance(ev, ProgressEvent):\n",
        "        print(ev.msg)\n",
        "    if isinstance(ev, TextEvent):\n",
        "        print(ev.delta, end=\"\")\n",
        "\n",
        "final_result = await handler\n",
        "print(\"Final result = \", final_result)"
      ],
      "metadata": {
        "colab": {
          "base_uri": "https://localhost:8080/"
        },
        "id": "VowYKxzreD1p",
        "outputId": "b5762501-e288-4163-cf2d-565a6458d999"
      },
      "execution_count": null,
      "outputs": [
        {
          "output_type": "stream",
          "name": "stdout",
          "text": [
            "Step one is happening\n",
            "Sure! The first 50 words of \"Moby Dick\" by Herman Melville are:\n",
            "\n",
            "\"Call me Ishmael. Some years ago—never mind how long precisely—I had little or no money in my purse, and nothing particular to interest me on shore. So, whenever I find myself growing grim about the mouth; whenever it is a damp, drizzly November in my soul;\"Step three is happening\n",
            "Final result =  Workflow complete.\n"
          ]
        }
      ]
    },
    {
      "cell_type": "markdown",
      "source": [
        "## Putting together a multi-agent system\n",
        "\n",
        "Now we've seen all the ways workflows can work, let's construct our own multi-agent system!\n",
        "\n",
        "We'll have to create new agents, since the FunctionCallingAgents we made earlier are specifically adapted to run inside of `AgentWorkflow`. Making a generic function calling agent is very similar:"
      ],
      "metadata": {
        "id": "elnYMephgF47"
      }
    },
    {
      "cell_type": "code",
      "source": [
        "from llama_index.core.agent import FunctionCallingAgent as GenericFunctionCallingAgent\n",
        "from llama_index.core.tools import FunctionTool\n",
        "\n",
        "# convert our web search functions into a tool, the generic function calling agent doesn't do this automatically (yet)\n",
        "search_web_tool = FunctionTool.from_defaults(fn=search_web)\n",
        "\n",
        "research_agent = GenericFunctionCallingAgent.from_tools(\n",
        "    tools=[search_web_tool],\n",
        "    llm=llm,\n",
        "    verbose=False,\n",
        "    allow_parallel_tool_calls=False,\n",
        "    system_prompt=\"You are an agent that does research by searching the web and then records the results of your research.\"\n",
        ")\n",
        "write_agent = GenericFunctionCallingAgent.from_tools(\n",
        "    tools=[],\n",
        "    llm=llm,\n",
        "    verbose=False,\n",
        "    allow_parallel_tool_calls=False,\n",
        "    system_prompt=\"You are an agent that writes a report based on the results of research by another agent.\"\n",
        ")\n",
        "review_agent = GenericFunctionCallingAgent.from_tools(\n",
        "    tools=[],\n",
        "    llm=llm,\n",
        "    verbose=False,\n",
        "    allow_parallel_tool_calls=False,\n",
        "    system_prompt=\"You are an agent that reviews a report written by a different agent.\"\n",
        ")"
      ],
      "metadata": {
        "id": "gPxFQpYQkRza"
      },
      "execution_count": null,
      "outputs": []
    },
    {
      "cell_type": "markdown",
      "source": [
        "We'll create a simple linear flow to start with:"
      ],
      "metadata": {
        "id": "cH5sZbd335o7"
      }
    },
    {
      "cell_type": "code",
      "source": [
        "class ResearchEvent(Event):\n",
        "    prompt: str\n",
        "\n",
        "class WriteEvent(Event):\n",
        "    research: str\n",
        "\n",
        "class ReviewEvent(Event):\n",
        "    report: str\n",
        "\n",
        "class ReviewResults(Event):\n",
        "    review: str\n",
        "\n",
        "class SimpleMultiAgentFlow(Workflow):\n",
        "\n",
        "    @step\n",
        "    async def setup(self, ev: StartEvent) -> ResearchEvent:\n",
        "        self.research_agent = ev.research_agent\n",
        "        self.write_agent = ev.write_agent\n",
        "        self.review_agent = ev.review_agent\n",
        "        return ResearchEvent(prompt=ev.prompt)\n",
        "\n",
        "    @step\n",
        "    async def research(self, ctx: Context, ev: ResearchEvent) -> WriteEvent:\n",
        "\n",
        "        await ctx.set(\"prompt\", ev.prompt)\n",
        "        result = self.research_agent.chat(f\"Do some research that another agent will use to write a report about this topic: <topic>{ev.prompt}</topic>. Just include the facts without making it into a full report.\")\n",
        "\n",
        "        return WriteEvent(research=str(result))\n",
        "\n",
        "    @step\n",
        "    async def write(self, ctx: Context, ev: WriteEvent) -> ReviewEvent:\n",
        "        result = self.write_agent.chat(f\"Write a report based on this research: <research>{ev.research}</research> and this topic: <topic>{await ctx.get('prompt')}</topic>\")\n",
        "\n",
        "        return ReviewEvent(report=str(result))\n",
        "\n",
        "    @step\n",
        "    async def review(self, ctx: Context, ev: ReviewEvent) -> StopEvent:\n",
        "        result = self.review_agent.chat(f\"Review this report: <report>{ev.report}</report>\")\n",
        "\n",
        "        ctx.write_event_to_stream(ReviewResults(review=str(result)))\n",
        "\n",
        "        return StopEvent(result=ev.report)"
      ],
      "metadata": {
        "id": "dqzaRydrrAgk"
      },
      "execution_count": null,
      "outputs": []
    },
    {
      "cell_type": "markdown",
      "source": [
        "Running it gets us a report and a review of that report:"
      ],
      "metadata": {
        "id": "dLTEN0FZ4BFH"
      }
    },
    {
      "cell_type": "code",
      "source": [
        "import nest_asyncio\n",
        "nest_asyncio.apply()\n",
        "\n",
        "workflow = SimpleMultiAgentFlow(timeout=30, verbose=True)\n",
        "handler = workflow.run(\n",
        "    prompt=\"History of San Francisco\",\n",
        "    research_agent=research_agent,\n",
        "    write_agent=write_agent,\n",
        "    review_agent=review_agent\n",
        ")\n",
        "\n",
        "async for ev in handler.stream_events():\n",
        "    if isinstance(ev, ReviewResults):\n",
        "        print(\"==== The review ====\")\n",
        "        print(ev.review)\n",
        "\n",
        "final_result = await handler\n",
        "print(\"==== The report ====\")\n",
        "print(final_result)"
      ],
      "metadata": {
        "colab": {
          "base_uri": "https://localhost:8080/"
        },
        "id": "I72M8ZqKum2I",
        "outputId": "ceb6e585-1f18-449d-c2ea-2798d93bb274"
      },
      "execution_count": null,
      "outputs": [
        {
          "output_type": "stream",
          "name": "stdout",
          "text": [
            "Running step setup\n",
            "Step setup produced event ResearchEvent\n",
            "Running step research\n",
            "Step research produced event WriteEvent\n",
            "Running step write\n",
            "Step write produced event ReviewEvent\n",
            "Running step review\n",
            "Step review produced event StopEvent\n",
            "==== The review ====\n",
            "### Review of the Report on the History of San Francisco\n",
            "\n",
            "#### Overall Impression\n",
            "The report provides a comprehensive overview of San Francisco's history, effectively capturing key events and developments that have shaped the city. It is well-structured, with clear headings that guide the reader through different historical periods. The language is accessible, making it suitable for a broad audience.\n",
            "\n",
            "#### Strengths\n",
            "1. **Chronological Structure**: The report follows a logical chronological order, making it easy for readers to understand the progression of San Francisco's history.\n",
            "2. **Key Events Highlighted**: Important milestones, such as the establishment of Mission Dolores, the Gold Rush, the Panama-Pacific International Exposition, and the rise of the tech industry, are well-articulated and provide a solid foundation for understanding the city's evolution.\n",
            "3. **Cultural Context**: The inclusion of cultural movements, such as the Beat Generation and the hippie counterculture, adds depth to the narrative and highlights San Francisco's role as a cultural hub.\n",
            "4. **Social Issues Addressed**: The report does not shy away from discussing contemporary challenges, such as homelessness and housing affordability, which are crucial for understanding the city's current landscape.\n",
            "\n",
            "#### Areas for Improvement\n",
            "1. **Indigenous Peoples Section**: While the report mentions the Ohlone people, it could benefit from a more detailed exploration of their culture, social structure, and the impact of European colonization on their communities.\n",
            "2. **World Fair Section**: The section on the Panama-Pacific International Exposition could be expanded to include more details about the fair's significance, the exhibits presented, and its long-term effects on the city.\n",
            "3. **Technological Hub Section**: The report mentions the dot-com boom but could provide more context about how this period influenced the city's economy and demographics, as well as the subsequent challenges that arose from this rapid growth.\n",
            "4. **Conclusion**: The conclusion effectively summarizes the report but could be strengthened by offering insights into the future trajectory of San Francisco, considering current trends in technology, housing, and social issues.\n",
            "\n",
            "#### Additional Suggestions\n",
            "- **Visual Aids**: Incorporating maps, photographs, or timelines could enhance the report's engagement and provide visual context to the historical events discussed.\n",
            "- **Citations and References**: Including sources or references for the information presented would lend credibility to the report and allow readers to explore topics further.\n",
            "\n",
            "#### Final Thoughts\n",
            "This report serves as a solid introduction to the history of San Francisco, effectively balancing historical facts with cultural insights. With some enhancements in depth and detail, particularly regarding indigenous history and the implications of the tech boom, it could become an even more valuable resource for understanding this iconic city.\n",
            "==== The report ====\n",
            "# Report on the History of San Francisco\n",
            "\n",
            "## Introduction\n",
            "San Francisco, a city renowned for its cultural diversity and historical significance, has a rich and complex history that spans thousands of years. This report outlines key events and developments that have shaped San Francisco from its indigenous roots to its modern status as a technological hub.\n",
            "\n",
            "## Indigenous Peoples\n",
            "Long before European contact, the San Francisco Bay Area was inhabited by the Ohlone people. Their presence in the region for thousands of years laid the foundation for the area's cultural and ecological landscape.\n",
            "\n",
            "## Spanish Exploration\n",
            "The history of San Francisco as a European settlement began in 1776 when Spanish explorer Juan Bautista de Anza established Mission Dolores in honor of Saint Francis of Assisi. This mission marked the formal establishment of San Francisco and initiated a new chapter in the region's history.\n",
            "\n",
            "## Gold Rush Era\n",
            "The California Gold Rush of 1849 was a pivotal moment for San Francisco. The city transformed from a modest settlement of approximately 800 residents to a bustling metropolis with a population exceeding 50,000 by 1855. This rapid growth was fueled by an influx of fortune seekers and immigrants, significantly altering the city's demographic and economic landscape.\n",
            "\n",
            "## World Fair\n",
            "In 1915, San Francisco hosted the Panama-Pacific International Exposition, a world fair that celebrated the city's recovery and growth following the devastating earthquake of 1906. This event showcased San Francisco's resilience and innovation, further solidifying its status as a major American city.\n",
            "\n",
            "## World War II\n",
            "During World War II, San Francisco emerged as a crucial port for military operations in the Pacific. The city played a significant role in the war effort and was the site of the conference that led to the founding of the United Nations in 1945, marking its importance on the global stage.\n",
            "\n",
            "## Cultural Movements\n",
            "San Francisco has been a cradle for various cultural movements throughout the 20th century. The Beat Generation of the 1950s and the hippie counterculture that flourished during the 1967 Summer of Love are notable examples of the city's vibrant artistic and social landscape.\n",
            "\n",
            "## Technological Hub\n",
            "The late 20th century saw San Francisco rise as a leading technological hub, particularly during the dot-com boom. The city attracted a diverse population of entrepreneurs and innovators, further enhancing its reputation as a center for technological advancement and creativity.\n",
            "\n",
            "## Urban Development\n",
            "Significant urban development has characterized San Francisco's growth, with the construction of iconic structures such as the Golden Gate Bridge and the San Francisco Bay Bridge. These landmarks not only symbolize the city but also reflect its engineering prowess and aesthetic vision.\n",
            "\n",
            "## Social Issues\n",
            "Despite its many successes, San Francisco has faced ongoing challenges, including homelessness and housing affordability. These issues became particularly pronounced in the 1980s and after the dot-com crash in the early 2000s, highlighting the complexities of urban life in a rapidly changing city.\n",
            "\n",
            "## Modern Era\n",
            "Entering the 2000s, San Francisco's economy rebounded, driven by the tech industry and a thriving tourism sector. This resurgence led to increased demand for housing and rising rents, further complicating the city's social landscape.\n",
            "\n",
            "## Conclusion\n",
            "The history of San Francisco is a tapestry woven from the threads of indigenous heritage, exploration, economic transformation, cultural movements, and urban development. As the city continues to evolve, it remains a testament to resilience and innovation, facing both opportunities and challenges in the modern era.\n"
          ]
        }
      ]
    },
    {
      "cell_type": "markdown",
      "source": [
        "## Adding Reflection\n",
        "\n",
        "But we mentioned reflection as an extra feature we can add because we have fine-grained control. Let's add that!\n",
        "\n",
        "We need to make several changes:\n",
        "* In `research` we'll store the research into the context, since we might need to use it multiple times\n",
        "* We'll tell `write` that it can be triggered by a `RewriteEvent` in addition to a `WriteEvent`\n",
        "* If it's a `RewriteEvent` we'll add the review as feedback to the prompt\n",
        "* `review` will be changed to optionally emit a `RewriteEvent`\n",
        "* We'll get the LLM to decide if the review returned by the agent is a \"bad\" or \"good\" review"
      ],
      "metadata": {
        "id": "fekeyr5x4E1A"
      }
    },
    {
      "cell_type": "code",
      "source": [
        "class RewriteEvent(Event):\n",
        "    review: str\n",
        "\n",
        "# Our WriteEvent doesn't need research attached any more\n",
        "class WriteEvent(Event):\n",
        "    pass\n",
        "\n",
        "class MultiAgentFlowWithReflection(Workflow):\n",
        "\n",
        "    @step\n",
        "    async def setup(self, ev: StartEvent) -> ResearchEvent:\n",
        "        self.research_agent = ev.research_agent\n",
        "        self.write_agent = ev.write_agent\n",
        "        self.review_agent = ev.review_agent\n",
        "        return ResearchEvent(prompt=ev.prompt)\n",
        "\n",
        "    @step\n",
        "    async def research(self, ctx: Context, ev: ResearchEvent) -> WriteEvent:\n",
        "\n",
        "        await ctx.set(\"prompt\", ev.prompt)\n",
        "        result = self.research_agent.chat(f\"Do some research that another agent will use to write a report about this topic: <topic>{ev.prompt}</topic>. Just include the facts without making it into a full report.\")\n",
        "\n",
        "        # store the research in the context for multiple uses\n",
        "        await ctx.set(\"research\", str(result))\n",
        "\n",
        "        return WriteEvent()\n",
        "\n",
        "    @step\n",
        "    async def write(self, ctx: Context, ev: WriteEvent | RewriteEvent ) -> ReviewEvent:\n",
        "\n",
        "        prompt = f\"Write a report based on this research: <research>{await ctx.get('research')}</research> and this topic: <topic>{await ctx.get('prompt')}</topic> \"\n",
        "\n",
        "        # detect RewriteEvents and modify the prompt\n",
        "        if isinstance(ev, RewriteEvent):\n",
        "            print(\"Doing a rewrite!\")\n",
        "            prompt += f\"This report has reviewed and the reviewer had this feedback, which you should take into account: <review>{ev.review}</review>\"\n",
        "\n",
        "        result = self.write_agent.chat(prompt)\n",
        "\n",
        "        return ReviewEvent(report=str(result))\n",
        "\n",
        "    @step\n",
        "    async def review(self, ctx: Context, ev: ReviewEvent) -> StopEvent | RewriteEvent:\n",
        "        result = self.review_agent.chat(f\"Review this report: {ev.report}\")\n",
        "\n",
        "        # get the LLM to self-reflect\n",
        "        try_again = llm.complete(f\"This is a review of a report written by an agent. If you think this review is bad enough that the agent should try again, respond with just the word RETRY. If the review is good, reply with just the word CONTINUE. Here's the review: <review>{str(result)}</review>\")\n",
        "\n",
        "        if try_again.text == \"RETRY\":\n",
        "            print(\"Reviewer said try again\")\n",
        "            return RewriteEvent(review=str(result))\n",
        "        else:\n",
        "            print(\"Reviewer thought it was good!\")\n",
        "            return StopEvent(result=ev.report)"
      ],
      "metadata": {
        "id": "lrX1sk7-4PDn"
      },
      "execution_count": null,
      "outputs": []
    },
    {
      "cell_type": "code",
      "source": [
        "workflow = MultiAgentFlowWithReflection(timeout=30, verbose=True)\n",
        "handler = workflow.run(\n",
        "    prompt=\"History of San Francisco\",\n",
        "    research_agent=research_agent,\n",
        "    write_agent=write_agent,\n",
        "    review_agent=review_agent\n",
        ")\n",
        "\n",
        "final_result = await handler\n",
        "print(\"==== The report ====\")\n",
        "print(final_result)"
      ],
      "metadata": {
        "colab": {
          "base_uri": "https://localhost:8080/"
        },
        "id": "vaf3OwQG6Nzy",
        "outputId": "474f5f4c-6455-468b-e3c1-0d772774556b"
      },
      "execution_count": null,
      "outputs": [
        {
          "output_type": "stream",
          "name": "stdout",
          "text": [
            "Running step setup\n",
            "Step setup produced event ResearchEvent\n",
            "Running step research\n",
            "Step research produced event WriteEvent\n",
            "Running step write\n",
            "Step write produced event ReviewEvent\n",
            "Running step review\n",
            "Reviewer thought it was good!\n",
            "Step review produced event StopEvent\n",
            "==== The report ====\n",
            "# Report on the History of San Francisco\n",
            "\n",
            "## Introduction\n",
            "San Francisco, a city known for its vibrant culture and historical significance, has a rich history that reflects the diverse influences and transformations it has undergone over the centuries. This report highlights key events and developments that have shaped San Francisco from its indigenous roots to its current status as a technological powerhouse.\n",
            "\n",
            "## Indigenous Inhabitants\n",
            "The history of San Francisco begins with the Ohlone people, who inhabited the San Francisco Bay Area for thousands of years before European contact. Their deep connection to the land and rich cultural traditions laid the groundwork for the region's identity.\n",
            "\n",
            "## Spanish Colonization\n",
            "In 1776, Spanish explorer Juan Bautista de Anza established Mission Dolores, marking the formal establishment of San Francisco. This mission served as a critical point for Spanish colonization and the spread of Christianity among the indigenous populations.\n",
            "\n",
            "## Gold Rush Impact\n",
            "The California Gold Rush of 1849 was a transformative event for San Francisco. The city rapidly grew from a small town of approximately 800 residents to a bustling metropolis with over 50,000 inhabitants by 1855. This influx of fortune seekers and immigrants dramatically altered the city's demographic and economic landscape.\n",
            "\n",
            "## Transcontinental Railroad\n",
            "The completion of the transcontinental railroad in 1869 further enhanced San Francisco's role as a commercial hub. This vital connection to the rest of the United States facilitated trade and travel, solidifying the city's importance in the national economy.\n",
            "\n",
            "## World War II Role\n",
            "During World War II, San Francisco became a major port for the Pacific theater, playing a crucial role in military operations. The city also hosted the 1945 conference that led to the founding of the United Nations, underscoring its significance on the global stage.\n",
            "\n",
            "## Cultural Movements\n",
            "San Francisco has been a center for various cultural movements throughout the 20th century. The Beat Generation of the 1950s and the hippie counterculture that emerged during the 1967 Summer of Love are notable examples of the city's vibrant artistic and social landscape, reflecting its progressive spirit.\n",
            "\n",
            "## Iconic Structures\n",
            "The construction of iconic structures such as the Golden Gate Bridge and the San Francisco Bay Bridge in the 1930s symbolized the city's growth and engineering prowess. These landmarks have become synonymous with San Francisco and are celebrated worldwide.\n",
            "\n",
            "## Post-War Changes\n",
            "Following World War II, San Francisco experienced significant suburbanization, with many residents moving to nearby areas. This shift altered the city's demographic composition and contributed to the development of surrounding communities.\n",
            "\n",
            "## Technological Hub\n",
            "In the late 20th century, particularly during the dot-com boom, San Francisco emerged as a leading technological city. The influx of tech companies and entrepreneurs transformed the city's economy and attracted a diverse population, further enhancing its reputation as a center for innovation.\n",
            "\n",
            "## Modern Challenges\n",
            "Despite its many successes, San Francisco has faced ongoing challenges, including homelessness and housing affordability. These issues became particularly pronounced in the 1980s and following the dot-com crash in the early 2000s, highlighting the complexities of urban life in a rapidly changing city.\n",
            "\n",
            "## Conclusion\n",
            "The history of San Francisco is a rich tapestry woven from the threads of indigenous heritage, exploration, economic transformation, cultural movements, and urban development. As the city continues to evolve, it remains a testament to resilience and innovation, navigating both opportunities and challenges in the modern era.\n"
          ]
        }
      ]
    },
    {
      "cell_type": "markdown",
      "source": [
        "In this run, the reviewer thought the report was good! If we visualize the flow however we can see the reflection loop:\n",
        "\n",
        "<img width=\"500\" src=\"https://seldo.com/uploads/2025/Screenshot%202025-01-25%20at%204.04.52%E2%80%AFPM.png\">"
      ],
      "metadata": {
        "id": "9jB-Zalv8SZx"
      }
    },
    {
      "cell_type": "markdown",
      "source": [
        "## Congratulations yet again!\n",
        "\n",
        "You've come a long way in this notebook -- from a single agent flow, to\n",
        "a multi-agent `AgentWorkflow` all the way through to full `Workflows`, with fine-grained flow control and self-reflection. What will you build your multi-agent system to do?"
      ],
      "metadata": {
        "id": "dJRA_zJH8v3J"
      }
    }
  ],
  "metadata": {
    "kernelspec": {
      "display_name": "llama-index-caVs7DDe-py3.10",
      "language": "python",
      "name": "python3"
    },
    "language_info": {
      "codemirror_mode": {
        "name": "ipython",
        "version": 3
      },
      "file_extension": ".py",
      "mimetype": "text/x-python",
      "name": "python",
      "nbconvert_exporter": "python",
      "pygments_lexer": "ipython3"
    },
    "colab": {
      "provenance": []
    }
  },
  "nbformat": 4,
  "nbformat_minor": 0
}